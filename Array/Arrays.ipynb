{
 "cells": [
  {
   "cell_type": "markdown",
   "id": "dc54e43a",
   "metadata": {},
   "source": [
    "## Arrays\n",
    "\n",
    "### Introduction\n",
    "* An Array is a collection of items. The items could be integers, strings, DVDs, games, books—anything really. The items are stored in neighboring (contiguous) memory locations. Because they're stored together, checking through the entire collection of items is straightforward."
   ]
  },
  {
   "cell_type": "markdown",
   "id": "1e8ff7a9",
   "metadata": {},
   "source": [
    "#### Leetcode 485. Max Consecutive Ones\n",
    "* Overview\n",
    "  + Given a binary array nums, return the maximum number of consecutive 1's in the array.\n",
    "* Algorithm\n",
    "  + linear scan\n",
    "    + traverse the array, if num == 1, count += 1, else, rs = max(rs, count), and set count = 0\n",
    "    + return max(rs, count) out of the traversal loop\n",
    "* Time complexity\n",
    "  + O(N)\n",
    "* Space complexity:\n",
    "  + O(1)"
   ]
  },
  {
   "cell_type": "code",
   "execution_count": null,
   "id": "e8df8bba",
   "metadata": {},
   "outputs": [],
   "source": [
    "class Solution:\n",
    "    def findMaxConsecutiveOnes(self, nums: List[int]) -> int:\n",
    "        if not nums:\n",
    "            return 0\n",
    "        \n",
    "        rs = 0\n",
    "        count = 0\n",
    "        \n",
    "        for num in nums:\n",
    "            if num == 1:\n",
    "                count += 1\n",
    "            else:\n",
    "                rs = max(rs, count)\n",
    "                count = 0\n",
    "        return max(rs, count)        "
   ]
  },
  {
   "cell_type": "markdown",
   "id": "1305709e",
   "metadata": {},
   "source": [
    "#### Leetcode Find Numbers with Even Number of Digits\n",
    "* Overview\n",
    "  + Given an array nums of integers, return how many of them contain an even number of digits.\n",
    "* Algorithm\n",
    "  + define isEvenDiges function that repeatedly divide input num by 10 until it <= 0, and each time, increment rs by 1, finally return rs % 2 == 0\n",
    "  + traverse the list, increment rs if an element is even\n",
    "  + return rs out of the loop\n",
    "* time complexity\n",
    "  + O(NlogN): finding the number of digits logN\n",
    "* space complexity\n",
    "  + O(1) "
   ]
  },
  {
   "cell_type": "code",
   "execution_count": null,
   "id": "beac3b21",
   "metadata": {},
   "outputs": [],
   "source": [
    "class Solution:\n",
    "    def findNumbers(self, nums: List[int]) -> int:\n",
    "        def isEvenDigits(num: int) -> int:\n",
    "            rs = 0\n",
    "            while num > 0:\n",
    "                rs += 1\n",
    "                num //= 10\n",
    "            return rs % 2 == 0\n",
    "        \n",
    "        rs = 0\n",
    "        \n",
    "        for num in nums:\n",
    "            if isEvenDigits(num):\n",
    "                rs += 1\n",
    "                \n",
    "        return rs                "
   ]
  },
  {
   "cell_type": "markdown",
   "id": "50fe5d0e",
   "metadata": {},
   "source": [
    "#### Leetcode 977. Squares of a Sorted Array\n",
    "* Overview\n",
    "  + Given an integer array nums sorted in non-decreasing order, return an array of the squares of each number sorted in non-decreasing order.\n",
    "* Algorithm (two pointers)\n",
    "  + define left and right pointers, and compare the abs value of the two pointers, insert the bigger of them to the index position of the result list starting from n-1 to 0\n",
    "* Time complexity:\n",
    "  + O(N)\n",
    "* Space complexity\n",
    "  + O(1)"
   ]
  },
  {
   "cell_type": "code",
   "execution_count": 1,
   "id": "c8a25c38",
   "metadata": {},
   "outputs": [],
   "source": [
    "\n",
    "# two pointers implmentation\n",
    "\n",
    "from typing import List\n",
    "class Solution:\n",
    "    def sortedSquares(self, nums: List[int]) -> List[int]:\n",
    "        if not nums:\n",
    "            return []\n",
    "        \n",
    "        n = len(nums)\n",
    "        \n",
    "        # define the two pointers at the ends of the nums\n",
    "        left, right = 0, n-1\n",
    "        \n",
    "        # initialize the result array\n",
    "        rs = [0] * n\n",
    "        \n",
    "        # start to calculate results from the last element index\n",
    "        index = n-1\n",
    "        \n",
    "        # notice we need t have left <= right to check each element\n",
    "        while left <= right:\n",
    "            # put the largest square to the current index position\n",
    "            if abs(nums[left]) >= abs(nums[right]):\n",
    "                rs[index] = nums[left] * nums[left]\n",
    "                left += 1\n",
    "            else:\n",
    "                rs[index] = nums[right] * nums[right]\n",
    "                right -= 1\n",
    "            \n",
    "            # decrement index at each step\n",
    "            index -= 1    \n",
    "            \n",
    "        return rs          "
   ]
  },
  {
   "cell_type": "code",
   "execution_count": null,
   "id": "e15f997c",
   "metadata": {},
   "outputs": [],
   "source": []
  }
 ],
 "metadata": {
  "kernelspec": {
   "display_name": "Python 3 (ipykernel)",
   "language": "python",
   "name": "python3"
  },
  "language_info": {
   "codemirror_mode": {
    "name": "ipython",
    "version": 3
   },
   "file_extension": ".py",
   "mimetype": "text/x-python",
   "name": "python",
   "nbconvert_exporter": "python",
   "pygments_lexer": "ipython3",
   "version": "3.10.4"
  }
 },
 "nbformat": 4,
 "nbformat_minor": 5
}
