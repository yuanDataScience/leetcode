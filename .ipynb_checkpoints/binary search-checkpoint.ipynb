{
 "cells": [
  {
   "cell_type": "markdown",
   "id": "fc41c271",
   "metadata": {},
   "source": [
    "### Binary Search Template\n",
    "This notebook contains sample and test code for binary search using the start + 1 < end template. "
   ]
  },
  {
   "cell_type": "markdown",
   "id": "8715501e",
   "metadata": {},
   "source": [
    "#### Binary Search Template code"
   ]
  },
  {
   "cell_type": "code",
   "execution_count": 1,
   "id": "9d7b4523",
   "metadata": {},
   "outputs": [],
   "source": [
    "from typing import List"
   ]
  },
  {
   "cell_type": "code",
   "execution_count": 2,
   "id": "c629fd5c",
   "metadata": {},
   "outputs": [],
   "source": [
    "def binary_search(a: List, target: int) -> int:\n",
    "    start = 0\n",
    "    end = len(a) - 1\n",
    "    while start + 1 < end:\n",
    "        mid = start + (end - start) // 2\n",
    "        if a[mid] == target:\n",
    "            return mid\n",
    "        elif a[mid] > target:\n",
    "            end = mid\n",
    "        elif a[mid] < target:\n",
    "            start = mid\n",
    "    if a[start] == target:\n",
    "        return start\n",
    "    if a[end] == target:\n",
    "        return end\n",
    "    # if target not in the list, then start and end indices will include the assumed element in list\n",
    "    # start is the index of the last element smaller than target and\n",
    "    # end is the inde x of the first element bigger than target\n",
    "    # if the target is the edge values of the array, it will be one of start and end and has to be checked.\n",
    "    # unless the edge values (index 0 or index len(array) -1), the right target will always be one of the mid\n",
    "    return end\n",
    "        "
   ]
  },
  {
   "cell_type": "code",
   "execution_count": 3,
   "id": "616f6f7d",
   "metadata": {},
   "outputs": [],
   "source": [
    "array = [1, 3, 4, 5, 7, 9, 15, 22]"
   ]
  },
  {
   "cell_type": "code",
   "execution_count": 4,
   "id": "b492c520",
   "metadata": {},
   "outputs": [
    {
     "name": "stdout",
     "output_type": "stream",
     "text": [
      "3\n"
     ]
    }
   ],
   "source": [
    "# any elements that are not edge elments is found by mid\n",
    "print(binary_search(array, 5))"
   ]
  },
  {
   "cell_type": "code",
   "execution_count": 5,
   "id": "f08cd4f5",
   "metadata": {},
   "outputs": [
    {
     "name": "stdout",
     "output_type": "stream",
     "text": [
      "4\n"
     ]
    }
   ],
   "source": [
    "# use end to return the index of the position that element should be at, or the index of the first element that \n",
    "# is bigger than target\n",
    "# start returns the last element that is smaller than target, and last returns the first element bigger than target\n",
    "# start and end forms a range that includes the target\n",
    "print(binary_search(array, 6))"
   ]
  },
  {
   "cell_type": "markdown",
   "id": "f1d88788",
   "metadata": {},
   "source": [
    "#### Test if template can find the first and last elements"
   ]
  },
  {
   "cell_type": "code",
   "execution_count": 16,
   "id": "478c88d1",
   "metadata": {},
   "outputs": [],
   "source": [
    "def find_first(a: List, target: int) -> int:\n",
    "    if a is None or len(a) == 0:\n",
    "        return -1\n",
    "    if a[0] == target:\n",
    "        return 0\n",
    "    start = 0\n",
    "    end = len(a) -1\n",
    "    while start + 1 < end:\n",
    "        mid = start + (end - start) // 2\n",
    "        if a[mid] >= target:\n",
    "            end = mid\n",
    "        elif a[mid] < target:\n",
    "            start = mid\n",
    "    return start + 1\n",
    "\n",
    "\n",
    "def find_last(a: List, target: int) -> int:\n",
    "    if a is None or len(a) == 0:\n",
    "        return -1    \n",
    "    start = 0\n",
    "    end = len(a) -1\n",
    "    if a[end] == target:\n",
    "        return end\n",
    "    while start + 1 < end:\n",
    "        mid = start + (end - start) // 2\n",
    "        if a[mid] <= target:\n",
    "            start = mid           \n",
    "        elif a[mid] > target:\n",
    "            end = mid            \n",
    "    return end - 1       \n",
    "            "
   ]
  },
  {
   "cell_type": "code",
   "execution_count": 17,
   "id": "ea72e768",
   "metadata": {},
   "outputs": [],
   "source": [
    "array = [1, 1, 1, 2, 3, 3, 3, 3, 3, 3, 3, 4, 7, 8, 10, 10, 10]"
   ]
  },
  {
   "cell_type": "code",
   "execution_count": 18,
   "id": "eb236c8d",
   "metadata": {},
   "outputs": [
    {
     "name": "stdout",
     "output_type": "stream",
     "text": [
      "4\n",
      "10\n"
     ]
    }
   ],
   "source": [
    "print(find_first(array, 3))\n",
    "print(find_last(array, 3))"
   ]
  },
  {
   "cell_type": "code",
   "execution_count": 19,
   "id": "71d96005",
   "metadata": {},
   "outputs": [
    {
     "name": "stdout",
     "output_type": "stream",
     "text": [
      "14\n",
      "16\n"
     ]
    }
   ],
   "source": [
    "print(find_first(array, 10))\n",
    "print(find_last(array, 10))"
   ]
  },
  {
   "cell_type": "code",
   "execution_count": 20,
   "id": "a3a311f3",
   "metadata": {},
   "outputs": [
    {
     "name": "stdout",
     "output_type": "stream",
     "text": [
      "0\n",
      "2\n"
     ]
    }
   ],
   "source": [
    "print(find_first(array, 1))\n",
    "print(find_last(array, 1))"
   ]
  },
  {
   "cell_type": "code",
   "execution_count": null,
   "id": "909fffbf",
   "metadata": {},
   "outputs": [],
   "source": []
  }
 ],
 "metadata": {
  "kernelspec": {
   "display_name": "Python 3 (ipykernel)",
   "language": "python",
   "name": "python3"
  },
  "language_info": {
   "codemirror_mode": {
    "name": "ipython",
    "version": 3
   },
   "file_extension": ".py",
   "mimetype": "text/x-python",
   "name": "python",
   "nbconvert_exporter": "python",
   "pygments_lexer": "ipython3",
   "version": "3.10.4"
  }
 },
 "nbformat": 4,
 "nbformat_minor": 5
}
