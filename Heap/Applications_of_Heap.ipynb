{
 "cells": [
  {
   "cell_type": "markdown",
   "id": "c7e578dd",
   "metadata": {},
   "source": [
    "## Applications of Heap\n",
    "\n",
    "### Heap Sort\n",
    "* starting from selection sort, which find the minimum element starting from the current sorting position, and then exchange that min element to the sorting position\n",
    "  + this takes O(n^2) sicne each scan takes O(N), and you basically need to scan for each sorting poistion, which is also at O(N) level\n",
    "* we can use Heap to simplify the scan process \n",
    "* algorithm of heap sort\n",
    "  + convert the unsorted array into a binary tree\n",
    "  + bottom up heapify unordered list. scanning from the end of the array, compare its value to its children if it has children, and exchange with the bigger child node if the child's value is bigger than its value, and sip down if necessary to maintain the max Heap\n",
    "  + exhange the top element with the last element, and decrease the heap size to exclude the last element from the Max Heap. The excluded part is a partially sorted array\n",
    "  + sip down the top element to maintain the max heap, and then exchange the top with the last node, decrement the heap size, maintain the Max Heap, and repeat until all elements are sorted\n",
    "* time complexity\n",
    "  + O(NlogN)\n",
    "    + first time heapify is O(N)\n",
    "    + each time the max element is find and deleted from Heap, is O(logN)\n",
    "    + to sort all elements requires O(NlogN)\n",
    "    + O(N) + O(NlogN) = O(NlogN)\n",
    "* advantages and disadvantages\n",
    "  + generally much faster than the other comparison based sorts on sufficiently large inputs as a consequence of the running time\n",
    "  + not a stable sort\n",
    "  + in practice, peforms are worse than other O(NlogN) sorting algoritms due to bad cache locality properties\n",
    "    + + swaps elements based on locations in heaps, which can cause many read operatons to access indices in a seeming random order, causing many cache misses\n",
    "* implementation of algorithm in the following code\n",
    "  + max_heapify(heap_size, index) operate as a heap down process\n",
    "    + for node index, find its children and exchange its value with the bigger child if that child is bigger than it's value\n",
    "    + the largest after exchange refers to the child node after exchange, recursively call max_heapify to check the tree going down\n",
    "  + in the process to heapify the unsorted array, traverse all nodes from len(list)//2 -1 up to node 0)\n",
    "  + then loop from len(list)-1, to node 1, note that we exchange element of index i with index 0, and i = heap size -1, after exchange, we update the heap size by i in max_heapify(i, 0) to sip down the now top element to the heap with the size of i "
   ]
  },
  {
   "cell_type": "code",
   "execution_count": null,
   "id": "ae0c8593",
   "metadata": {},
   "outputs": [],
   "source": []
  },
  {
   "cell_type": "code",
   "execution_count": 2,
   "id": "3dbf5362",
   "metadata": {},
   "outputs": [],
   "source": [
    "# heap sort implementation\n",
    "# max_heapify is a heap down procedure\n",
    "\n",
    "from typing import List\n",
    "class Solution:\n",
    "    def heap_sort(self, lst: List[int]) -> None:\n",
    "        \"\"\"\n",
    "        Mutates elements in lst by utilizing the heap data structure\n",
    "        \"\"\"\n",
    "        def max_heapify(heap_size, index):\n",
    "            left, right = 2 * index + 1, 2 * index + 2\n",
    "            largest = index\n",
    "            if left < heap_size and lst[left] > lst[largest]:\n",
    "                largest = left\n",
    "            if right < heap_size and lst[right] > lst[largest]:\n",
    "                largest = right\n",
    "            if largest != index:\n",
    "                lst[index], lst[largest] = lst[largest], lst[index]\n",
    "                max_heapify(heap_size, largest)\n",
    "\n",
    "        # heapify original lst\n",
    "        for i in range(len(lst) // 2 - 1, -1, -1):\n",
    "            max_heapify(len(lst), i)\n",
    "\n",
    "        # use heap to sort elements\n",
    "        for i in range(len(lst) - 1, 0, -1):\n",
    "            # swap last element with first element\n",
    "            lst[i], lst[0] = lst[0], lst[i]\n",
    "            # note that we reduce the heap size by 1 every iteration\n",
    "            max_heapify(i, 0)"
   ]
  },
  {
   "cell_type": "markdown",
   "id": "95d8802a",
   "metadata": {},
   "source": [
    "### Top K Problem\n",
    "\n",
    "#### Approach 1\n",
    "* construct a Max Heap or Min Heap for K largest or K smallest elements by heapifying the array which takes O(N) time and space complexity\n",
    "* heappop() for K times and store the popped elements in the output array (KlogN)\n",
    "* altogether O(N + KlogN) time complexity and O(N) space complexity\n",
    "\n",
    "#### Approach 2\n",
    "* construct a Min Heap or Max Heap for K largest or K smallest element by heapifying the first K element of the array, which takes O(K) time and space complexity. If by adding elements to Heap one by one, takes O(KlogK) time complexity\n",
    "* for the remaining elements in the array, if an element is not larger or smaller than the top element in the Heap for K largest and K smallest problem, ignore the element, otherwise, remove the top element from the Heap, and add the new element to the Heap, this will take (N-K)logK time complexity and O(1) space complexity\n",
    "* output the heap as an array\n",
    "* altogether, O(K) + O(N-K)LogK time complexity O(NlogK), and O(K) space complexity"
   ]
  },
  {
   "cell_type": "markdown",
   "id": "5d4c6bcc",
   "metadata": {},
   "source": [
    "### The K-th Element \n",
    "\n",
    "#### Approach 1\n",
    "* construct a Max Heap or a Min Heap by heapify for the Kth largest or smallest element problem, respectively\n",
    "  + with all the elements in the array, use heapify to construct the Heap takes O(N) time and space complexity\n",
    "* heappop K times to get the kth output. Time complexity O(KlogN) and space complexity O(1)\n",
    "\n",
    "#### Approach 2\n",
    "* construct a Min Heap or Max Heap for the kth largest or smallest element problem, respectively by heapify\n",
    "  + time complexity and space complexity are O(K)\n",
    "* for the remaining elements, if the element is no bigger or no smaller than the top element for the biggest or smaller K element, ignore the element, otherwise, remove the top element and add the new element to the Heap\n",
    "  + time complexity O((N-K)logK)\n",
    "  + space complexity O(1)\n",
    "* return the top element of the Heap\n",
    "* altogether, time complexity is O(NlogK) and space complexity O(K)"
   ]
  },
  {
   "cell_type": "code",
   "execution_count": null,
   "id": "f8b212e3",
   "metadata": {},
   "outputs": [],
   "source": []
  }
 ],
 "metadata": {
  "kernelspec": {
   "display_name": "Python 3 (ipykernel)",
   "language": "python",
   "name": "python3"
  },
  "language_info": {
   "codemirror_mode": {
    "name": "ipython",
    "version": 3
   },
   "file_extension": ".py",
   "mimetype": "text/x-python",
   "name": "python",
   "nbconvert_exporter": "python",
   "pygments_lexer": "ipython3",
   "version": "3.10.4"
  }
 },
 "nbformat": 4,
 "nbformat_minor": 5
}
