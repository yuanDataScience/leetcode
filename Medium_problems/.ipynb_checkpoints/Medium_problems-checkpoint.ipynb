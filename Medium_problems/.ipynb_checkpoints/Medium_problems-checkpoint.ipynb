{
 "cells": [
  {
   "cell_type": "markdown",
   "id": "a6b32ed2",
   "metadata": {},
   "source": [
    "### Leetcode 89. Gray Code\n",
    "* Overview \n",
    "  + An n-bit gray code sequence is a sequence of 2n integers where:\n",
    "    + Every integer is in the inclusive range `[0, 2n - 1]`,\n",
    "    + The first integer is 0,\n",
    "    + An integer appears no more than once in the sequence,\n",
    "    + The binary representation of every pair of adjacent integers differs by exactly one bit, and\n",
    "    + The binary representation of the first and last integers differs by exactly one bit.\n",
    "  + Given an integer n, return any valid n-bit gray code sequence.\n",
    "  \n",
    "* Algorithm (DP)\n",
    "  + the basic logic is that if there exists a set of numbers that differ by one bit, then adding 1 to the highest bit of these numbers in reversed order will generate another set of numbers that differ by one bit\n",
    "  + staring from 0, we construct a number differ by one bit from 0 using 0 | 1 << 0 = 1\n",
    "  + now we have (0, 1), if we add 1 bit to the highest bit of 1 and 0, we get (00, 01, 11, 10)\n",
    "  + the logic is that when we add the highest 1 to `dp[i]`, we are sure the new number differ from `dp[i]` by exactly one bit, then we add the highest 1 to `dp[i-1]`, since we `dp[i-1]` and `dp[i]` differs by one bit, we know the two new numbers will differ by one bit \n",
    "  + why use reversed(dp)? \n",
    "    + This can make sure the first number obtained in each for loop when adding one bit will have exactly one bit difference from its previous number. for example when switch from 01 to 11 where the highest 1 is added to 01 and 00, we need to make sure the switch between 01 and 11 is good. We know 11 and 10 will be OK since 01 and 00 is OK\n",
    "* Time and space complexity\n",
    "  + time complexity O(2^n) \n",
    "  + space complexity O(2^n)\n",
    "  + since for a give n, there will be 2^n numbers. So we have to generate these numbers using 2^n operations and store them using 2^n space"
   ]
  },
  {
   "cell_type": "code",
   "execution_count": 7,
   "id": "915a15da",
   "metadata": {},
   "outputs": [],
   "source": [
    "from typing import List\n",
    "class Solution:\n",
    "    def grayCode(self, n: int) -> List[int]:\n",
    "        \n",
    "        # initialize dp as [0]\n",
    "        # if n == 0, then result = [0]\n",
    "        dp = [0]\n",
    "\n",
    "        # add 1 bit to the highest bit position\n",
    "        # starting from the largest index to make sure\n",
    "        # the first number in for loop obtained has exactly\n",
    "        # one bit difference from its previous number. All\n",
    "        # numbers in each for loop will differ in one bit \n",
    "        # since they differ in one bit before adding the\n",
    "        # highest 1 bit \n",
    "        for i in range(n):\n",
    "            dp = dp + [x | 1 << i for x in reversed(dp)]\n",
    "\n",
    "        return dp    "
   ]
  },
  {
   "cell_type": "markdown",
   "id": "b3758c69",
   "metadata": {},
   "source": [
    "### Leetcode 39 Combination Sum\n",
    "* Overview\n",
    "  + Given an array of distinct integers candidates and a target integer target, return a list of all unique combinations of candidates where the chosen numbers sum to target. You may return the combinations in any order.\n",
    "  + The same number may be chosen from candidates an unlimited number of times. Two combinations are unique if the frequency of at least one of the chosen numbers is different.\n",
    "  + The test cases are generated such that the number of unique combinations that sum up to target is less than 150 combinations for the given input.\n",
    "  \n",
    "* Algorithm (backtracking)\n",
    "  + sort the candidate list\n",
    "  + define dfs function to traverse the list index, `curr_sum` and `inter_rs`\n",
    "  + if `curr_sum` == 0, add `inter_rs` to rs\n",
    "  + traverse i from index to len(candidates)-1, if candidates(index) > `curr_sum`, break out of the loop. We sort candidate list to reduce the impossible dfs tries\n",
    "  + otherwise, recursively call dfs(i, `curr_sum - candidates[i]`, `inter_rs=[candidates[i]]`)\n",
    "  \n",
    "* time space O(N^(T/M)+1)\n",
    "  + the recursive is like a nry-tree, the total number of nodes is O(N^(h)) where n is the number of children for each node\n",
    "  + (T/M) + 1 is the depth of the tree. For each layer, we try O(N) recursive calls\n",
    "* space complexity O(T/M)\n",
    "  + we call depth of T/M"
   ]
  },
  {
   "cell_type": "code",
   "execution_count": 2,
   "id": "07716779",
   "metadata": {},
   "outputs": [],
   "source": [
    "from typing import List\n",
    "class Solution:\n",
    "    def combinationSum(self, candidates: List[int], target: int) -> List[List[int]]:\n",
    "        if not candidates or target == 0:\n",
    "            return []\n",
    "\n",
    "        rs = []        \n",
    "        candidates.sort()\n",
    "        def find_comb(index: int, curr_sum: int, inter_rs) -> None:\n",
    "            \n",
    "            if curr_sum == 0:\n",
    "                rs.append(inter_rs)\n",
    "                return\n",
    "            \n",
    "            for i in range(index, len(candidates)):\n",
    "                if candidates[i] > curr_sum:\n",
    "                    break\n",
    "                  \n",
    "                find_comb(i, curr_sum - candidates[i], inter_rs + [candidates[i]]) \n",
    "                \n",
    "        find_comb(0, target, [])  \n",
    "\n",
    "        return rs                "
   ]
  },
  {
   "cell_type": "code",
   "execution_count": null,
   "id": "ba2be26b",
   "metadata": {},
   "outputs": [],
   "source": []
  }
 ],
 "metadata": {
  "kernelspec": {
   "display_name": "Python 3 (ipykernel)",
   "language": "python",
   "name": "python3"
  },
  "language_info": {
   "codemirror_mode": {
    "name": "ipython",
    "version": 3
   },
   "file_extension": ".py",
   "mimetype": "text/x-python",
   "name": "python",
   "nbconvert_exporter": "python",
   "pygments_lexer": "ipython3",
   "version": "3.10.4"
  }
 },
 "nbformat": 4,
 "nbformat_minor": 5
}
