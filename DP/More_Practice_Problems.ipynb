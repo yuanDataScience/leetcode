{
 "cells": [
  {
   "cell_type": "markdown",
   "id": "c82041bf",
   "metadata": {},
   "source": [
    "## More Practice Problems\n",
    "\n",
    "### Leetcode 714 Best Time to Buy and Sell Stock with Transaction Fee\n",
    "* overview\n",
    "  + given an array prices where prices\\[i\\] is the price of a given stock on the ith day, and an integer fee representing a transaction fee.\n",
    "  + Find the maximum profit you can achieve. You may complete as many transactions as you like, but you need to pay the transaction fee for each transaction.\n",
    "* this is a similar best time to buy and sell stock series problem\n",
    "  + initialize a 2d dp array of n+1 and 2 elements on the two dimensions. The last element is the base case corresponding to 0 profit for both holding and unholding\n",
    "  + traverse from n-1 to 0. For each iteration, traverse holding variable from 0 to 1\n",
    "  + first assign dp(i)(j) = dp(i+1)(j) corresponding to do-nothing option\n",
    "  + then process the holding == 1 and holding ==0 cases separately\n",
    "    + if holding == 1, then dp(i)(j) = max(dp(i+1)(0)+prices(i)-fee, dp(i)(j)). This is to find the max between holding the stock and sell the stock at day i\n",
    "    + if holding == 0, then dp(i)(j) = max(dp(i+1)(1)-prices(i), dp(i)(j)). This is to find the max between buy the stock at day i and not buy stock\n",
    "  + finally, return dp(0)(0)\n",
    "* the key point of this type of problem is that we only focus on the current day (day i)'s option of whether keeping the current holding status or change it, and then connect the corresponding status on the next day, and find the max\n",
    "  + you can image by connectig all these status, the max option of the original status, which here is day 0, noholding will be obtained\n",
    "* time complexity: O(n) where n the length of prices\n",
    "* space complexity O(n) where n is the length of prices      "
   ]
  },
  {
   "cell_type": "code",
   "execution_count": 3,
   "id": "f5f8e54d",
   "metadata": {},
   "outputs": [],
   "source": [
    "# bottom up\n",
    "from typing import List\n",
    "class Solution:\n",
    "    def maxProfit(self, prices: List[int], fee: int) -> int:\n",
    "        if not prices:\n",
    "            return 0\n",
    "        \n",
    "        n = len(prices)\n",
    "        dp = [[0] * 2 for _ in range(n+1)]\n",
    "        \n",
    "        for i in range(n-1, -1, -1):\n",
    "            for j in range(2):\n",
    "                dp[i][j] = dp[i+1][j]\n",
    "                if j:\n",
    "                    dp[i][j] = max(dp[i+1][0]+prices[i]-fee, dp[i][j])\n",
    "                else:\n",
    "                    dp[i][j] = max(dp[i+1][1]-prices[i], dp[i][j])\n",
    "        return dp[0][0]   \n"
   ]
  },
  {
   "cell_type": "markdown",
   "id": "3c1e4bfb",
   "metadata": {},
   "source": [
    "### Leetcode 256 Paint House\n",
    "* overview\n",
    "  + There is a row of n houses, where each house can be painted one of three colors: red, blue, or green. The cost of painting each house with a certain color is different. You have to paint all the houses such that no two adjacent houses have the same color.\n",
    "  + The cost of painting each house with a certain color is represented by an n x 3 cost matrix costs.\n",
    "  + For example, costs\\[0\\]\\[0\\] is the cost of painting house 0 with the color red; costs\\[1\\]\\[2\\] is the cost of painting house 1 with color green, and so on...\n",
    "  + Return the minimum cost to paint all houses.\n",
    "* Algorithm (DP)\n",
    "  + we just track the min cost to pain each house by the 3 colors, starting from hous 0 and finally return the min of house n among three colors"
   ]
  },
  {
   "cell_type": "code",
   "execution_count": 4,
   "id": "dab52edf",
   "metadata": {},
   "outputs": [],
   "source": [
    "# optimized bottom up\n",
    "from typing import List\n",
    "class Solution:\n",
    "    def minCost(self, costs: List[List[int]]) -> int:\n",
    "        if not costs:\n",
    "            return 0\n",
    "        \n",
    "        pre_costs = min_costs = [0, 0, 0]\n",
    "        \n",
    "        for red, green, blue in costs:\n",
    "            min_costs = (red + min(pre_costs[1], pre_costs[2]), green + min(pre_costs[0], pre_costs[2]), blue+ min(pre_costs[0], pre_costs[1]))\n",
    "            \n",
    "            pre_costs = min_costs\n",
    "            \n",
    "        return min(pre_costs)     "
   ]
  },
  {
   "cell_type": "markdown",
   "id": "1ebb18c6",
   "metadata": {},
   "source": [
    "### Leetcode 265. Paint House II\n",
    "* overview\n",
    "  + There are a row of n houses, each house can be painted with one of the k colors. The cost of painting each house with a certain color is different. You have to paint all the houses such that no two adjacent houses have the same color.\n",
    "  + The cost of painting each house with a certain color is represented by an n x k cost matrix costs.\n",
    "  + Return the minimum cost to paint all houses.\n",
    "* algorithm\n",
    "  + the logic is similar to Leetcode 256 Paint House. The difference is that instead of 3 colors, we have to consier k colors, which can be much greater than 3\n",
    "  + the key point is how to manage and traverse the k values, and find the min cost corresponding to each color when painting the current house\n",
    "  + The technique we used here is to find the pre_min_cost, pre_min_color and second_min_cost (we don't care the color of the second_min cost)\n",
    "  + we first find the pre_min_color, pre_min_cost, pre_second_cost from the costs\\[0\\]\n",
    "  + we then traverse cost\\[1:\\]\n",
    "    + in each iteration of the color, if the current color doesnot equal to the pre_min_color, we just add the current color cost to the pre_min_color, otherwise, add the cost to second_min_cost, this will be the min cost to paint the current house using the this color\n",
    "    + we then apply the same algorithm to find the curr_min_cost, curr_min_color and curr_second_min_cost for the current house, and assign it to pre_min_cost, pre_min_color and pre_second_cost\n",
    "  + out of the for loop, return pre_min_cost    "
   ]
  },
  {
   "cell_type": "code",
   "execution_count": null,
   "id": "bc29ebdd",
   "metadata": {},
   "outputs": [],
   "source": [
    "class Solution:\n",
    "    def minCostII(self, costs: List[List[int]]) -> int:\n",
    "        if not costs:\n",
    "            return 0\n",
    "        \n",
    "        n, k = len(costs), len(costs[0])\n",
    "        \n",
    "        def find_two_mins(input_cost: List) -> Tuple[int, int, int]:\n",
    "            min_cost, min_color, second_cost = None, None, None\n",
    "            for i, cost in enumerate(input_cost):\n",
    "                if min_cost is None or cost < min_cost:\n",
    "                    min_cost = cost\n",
    "                    min_color = i\n",
    "                    second_cost = min_cost\n",
    "                elif second_cost is None or cost < second_cost:\n",
    "                    second_cost = cost\n",
    "                    \n",
    "            return (min_cost, min_color, second_cost)        "
   ]
  }
 ],
 "metadata": {
  "kernelspec": {
   "display_name": "Python 3 (ipykernel)",
   "language": "python",
   "name": "python3"
  },
  "language_info": {
   "codemirror_mode": {
    "name": "ipython",
    "version": 3
   },
   "file_extension": ".py",
   "mimetype": "text/x-python",
   "name": "python",
   "nbconvert_exporter": "python",
   "pygments_lexer": "ipython3",
   "version": "3.10.4"
  }
 },
 "nbformat": 4,
 "nbformat_minor": 5
}
