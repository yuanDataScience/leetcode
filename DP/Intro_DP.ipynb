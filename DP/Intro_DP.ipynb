{
 "cells": [
  {
   "cell_type": "markdown",
   "id": "ba764b8d",
   "metadata": {},
   "source": [
    "## Introduction to DP\n",
    "### What is Dynamic Programming\n",
    "* Dynamic Programming (DP)\n",
    "  + a programming paradigm that can systematically and efficiently explore all possible solutions to a problem\n",
    "* It is capable of solving a wide variety of problems that often have the following characteristics:\n",
    "  + The problem can be broken down into \"overlapping subproblems\" - smaller versions of the original problem that are re-used multiple times\n",
    "  + The problem has an \"optimal substructure\" - an optimal solution can be formed from optimal solutions to the overlapping subproblems of the original problem\n",
    "* A DP algorithm fulfills both overlapping subproblems and optimum substructure \n",
    "  + Greedy problems have optimal substructure, but not overlapping subproblems\n",
    "  + Divide and conquer algorithms break a problem into subproblems, but these subproblems are not overlapping \n",
    "    + this is why DP and divide and conquer are commonly mistaken for on another)\n",
    "* Example of DP: Fabonacci sequence\n",
    "* Dp is a powerful tool because it can\n",
    "  + break a complex problem into manageable subproblems\n",
    "  + avoid unnecessary recalculation of overlapping subproblems\n",
    "  + use the rsults of those subproblems to solve the inital complex problem \n",
    "* DP not only aids in solving complex problems, but it also greatly improves the time complexity compared to brute force solutions.   "
   ]
  },
  {
   "cell_type": "markdown",
   "id": "0e574db1",
   "metadata": {},
   "source": [
    "### Top-down and Bottom-up\n",
    "* Bottom-up (Tabulation)\n",
    "  + Bottom-up is implemented with iteration and starts at the base cases\n",
    "  + example:\n",
    "    + The base cases for the Fibonacci sequence are F(0) = 0 and F(1) = 1\n",
    "    + we use these base cases to calculate F(2), and then use that result to calculate F(3), and so on to F(n)\n",
    "      \n",
    "      `\n",
    "    / Pseudocode example for bottom-up\n",
    "    F = array of length (n + 1)\n",
    "    F[0] = 0\n",
    "    F[1] = 1\n",
    "    for i from 2 to n:\n",
    "        F[i] = F[i - 1] + F[i - 2]    `\n",
    "* Top-down(Memoization)\n",
    "  + Top-down is implemented with recursion and made efficient with memoization\n",
    "  + memoizing a result means to store the result of a function call, usually in a hashmap or an array, so that when the same function call is made again, we can simply return the memoized result instead of recalculating the result.\n",
    "    `\n",
    "    // Pseudocode example for top-down\n",
    "\n",
    "    memo = hashmap\n",
    "    Function F(integer i):\n",
    "        if i is 0 or 1: \n",
    "            return i\n",
    "        if i doesn't exist in memo:\n",
    "            memo[i] = F(i - 1) + F(i - 2)\n",
    "        return memo[i]\n",
    "    `    \n",
    "* Which is better?\n",
    "  + Any DP algorithm can be implemented with either method, and there are reasons for choosing either over the other. However, each method has one main advantage that stands out:\n",
    "    + A bottom-up implementation's runtime is usually faster, as iteration does not have the overhead that recursion does\n",
    "    + A top-down implementation is usually much easier to write. This is because with recursion, the ordering of subproblems does not matter, whereas with tabulation, we need to go through a logical ordering of solving subproblems"
   ]
  },
  {
   "cell_type": "markdown",
   "id": "7a0637e4",
   "metadata": {},
   "source": [
    "### When to use DP?\n",
    "* The first characteristic that is common in DP problems is that the problem will ask for the optimum value (max or min) of something, or the number of ways there are to do somthing. For example\n",
    "  + what is the min cost of doing...\n",
    "  + what is the max profit from...\n",
    "  + how many ways are there to do...\n",
    "  + what is the longest possible...\n",
    "  + is it possible to reach a certain point...\n",
    "* problems with the first characteristic may also be solved by greedy algorithm. The second characteristic common in DP problems is that future decision depend on earlier decisions.\n",
    "  + Deciding to do something at one step may affect the ability to do something in a later step.\n",
    "  + this makes a greedy algorithm invalid for a DP problem\n",
    "  + House robber problem: can not rob any two houses next to each other and need to get the solution with the max value\n",
    "    + if we have numbers \\[2, 7, 9, 3, 1\\], then in DP, we will check the optimal solution of 2, 9, 1. but in greedy algorithm, we will first compare the first and second number, and choose the larger one, so we will select 7, which prevents us from selecting 9\n",
    "  + longest increasing subsequence \\[1, 2, 6, 3, 5\\], we would choose 1, 2, 3, 5. when we go to 6, if we select it, we will increase the answer by one, but we would not select 3, and 5, so the subsequent answer is affected by it.\n",
    "* to check if we should use DP, not Greedy algorithm: \n",
    "  + assume it isn't DP, then try to think of a counterexample that proves a greedy algorithm won't work. If you can think of an example where earlier decisions affect future decisions, then DP is applicable\n",
    "* Note: these characteristics should only be used as guidelines - while they are extremely common in DP problems, at the end of the day DP is a very broad topic.  "
   ]
  }
 ],
 "metadata": {
  "kernelspec": {
   "display_name": "Python 3 (ipykernel)",
   "language": "python",
   "name": "python3"
  },
  "language_info": {
   "codemirror_mode": {
    "name": "ipython",
    "version": 3
   },
   "file_extension": ".py",
   "mimetype": "text/x-python",
   "name": "python",
   "nbconvert_exporter": "python",
   "pygments_lexer": "ipython3",
   "version": "3.10.4"
  }
 },
 "nbformat": 4,
 "nbformat_minor": 5
}
