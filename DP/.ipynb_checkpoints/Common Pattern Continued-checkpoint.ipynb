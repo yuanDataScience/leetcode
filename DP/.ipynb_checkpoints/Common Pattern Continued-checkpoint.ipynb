{
 "cells": [
  {
   "cell_type": "markdown",
   "id": "78076a99",
   "metadata": {},
   "source": [
    "## Common pattern continued\n",
    "\n",
    "### State Reduction\n",
    "* The number of states is the product of the number of values of each state variable\n",
    "  + reducing the states usually reduces the time and space complexity\n",
    "* Several strategies to reduce the number of states\n",
    "  + find the relationship between state variables and reduce the number of state variables \n",
    "  + reduce the number of state variables from recurrent equation (House robber problem, we remove the rob/nonrob state variable and only used the current house index as the state variable)\n",
    "  + improve space complexity when the recurrence relation is static (Fibonacci, the current value only depends on the previous two, so we only need to store the previous two values to reduce space complexity)\n",
    "  \n",
    "  ```ptyhon\n",
    "  class Solution:\n",
    "    def fib(self, n: int) -> int:\n",
    "        if n <= 1: return n\n",
    "        one_back = 1\n",
    "        two_back = 0\n",
    "        for i in range(2, n + 1):\n",
    "            temp = one_back\n",
    "            one_back += two_back\n",
    "            two_back = temp\n",
    "\n",
    "        return one_back\n",
    "   ```"
   ]
  },
  {
   "cell_type": "markdown",
   "id": "1654f9a2",
   "metadata": {},
   "source": [
    "### Leetcode 746 Min Cost Climbing Stairs\n",
    "* refer to this problem in Strategic Approach to DP notebook"
   ]
  },
  {
   "cell_type": "markdown",
   "id": "19abd23b",
   "metadata": {},
   "source": [
    "### Counting DP\n",
    "* A class of DP problems to ask for the number of distinct ways to do something\n",
    "* difference between counting DP and other DP problems asking for min and max\n",
    "  + recurrence relationship\n",
    "    + in DP problems asking for min and max, we usually use the recurrence relationship of max() or min()\n",
    "    + in counting DP problems, the recurrence relationship typically just sums the results of multiple states together\n",
    "  + base case\n",
    "    + in other DP problems, we usually define base cases to return 0\n",
    "    + in counting DP, we use logic to find the reasonable base case value, for example, in Leetcode 70, Climbing Stairs, we set the base case when i=0 as 1 since there is one way to climb the stair 0"
   ]
  },
  {
   "cell_type": "markdown",
   "id": "5faaf5cf",
   "metadata": {},
   "source": [
    "### Leetcode 70 Climbing Stairs\n",
    "* overview\n",
    "  + you are climbing a staircase. It takes n steps to reach the top\n",
    "  + each time, you can climb 1 or 2 steps, how many distince ways can you climb to the top?  "
   ]
  },
  {
   "cell_type": "code",
   "execution_count": 1,
   "id": "f87c28ee",
   "metadata": {},
   "outputs": [],
   "source": [
    "# bottom up with state reduction\n",
    "class Solution(object):\n",
    "    def climbStairs(self, n):\n",
    "        \"\"\"\n",
    "        :type n: int\n",
    "        :rtype: int\n",
    "        \"\"\"\n",
    "        \n",
    "        pre_one =1\n",
    "        pre_two =1\n",
    "        \n",
    "        for i in range(2,n+1):\n",
    "            tmp = pre_one\n",
    "            pre_one+=pre_two\n",
    "            pre_two =tmp\n",
    "        return pre_one   "
   ]
  },
  {
   "cell_type": "code",
   "execution_count": null,
   "id": "2c45d436",
   "metadata": {},
   "outputs": [],
   "source": []
  }
 ],
 "metadata": {
  "kernelspec": {
   "display_name": "Python 3 (ipykernel)",
   "language": "python",
   "name": "python3"
  },
  "language_info": {
   "codemirror_mode": {
    "name": "ipython",
    "version": 3
   },
   "file_extension": ".py",
   "mimetype": "text/x-python",
   "name": "python",
   "nbconvert_exporter": "python",
   "pygments_lexer": "ipython3",
   "version": "3.10.4"
  }
 },
 "nbformat": 4,
 "nbformat_minor": 5
}
