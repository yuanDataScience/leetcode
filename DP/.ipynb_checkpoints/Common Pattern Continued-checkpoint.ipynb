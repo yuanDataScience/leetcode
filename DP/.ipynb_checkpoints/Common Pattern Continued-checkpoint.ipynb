{
 "cells": [
  {
   "cell_type": "markdown",
   "id": "78076a99",
   "metadata": {},
   "source": [
    "## Common pattern continued\n",
    "\n",
    "### State Reduction\n",
    "* The number of states is the product of the number of values of each state variable\n",
    "  + reducing the states usually reduces the time and space complexity\n",
    "* Several strategies to reduce the number of states\n",
    "  + find the relationship between state variables and reduce the number of state variables \n",
    "  + reduce the number of state variables from recurrent equation (House robber problem, we remove the rob/nonrob state variable and only used the current house index as the state variable)\n",
    "  + improve space complexity when the recurrence relation is static (Fibonacci, the current value only depends on the previous two, so we only need to store the previous two values to reduce space complexity)\n",
    "  \n",
    "  ```ptyhon\n",
    "  class Solution:\n",
    "    def fib(self, n: int) -> int:\n",
    "        if n <= 1: return n\n",
    "        one_back = 1\n",
    "        two_back = 0\n",
    "        for i in range(2, n + 1):\n",
    "            temp = one_back\n",
    "            one_back += two_back\n",
    "            two_back = temp\n",
    "\n",
    "        return one_back\n",
    "   ```"
   ]
  },
  {
   "cell_type": "markdown",
   "id": "1654f9a2",
   "metadata": {},
   "source": [
    "### Leetcode 746 Min Cost Climbing Stairs\n",
    "* refer to this problem in Strategic Approach to DP notebook"
   ]
  },
  {
   "cell_type": "markdown",
   "id": "19abd23b",
   "metadata": {},
   "source": [
    "### Counting DP\n",
    "* A class of DP problems to ask for the number of distinct ways to do something\n",
    "* difference between counting DP and other DP problems asking for min and max\n",
    "  + recurrence relationship\n",
    "    + in DP problems asking for min and max, we usually use the recurrence relationship of max() or min()\n",
    "    + in counting DP problems, the recurrence relationship typically just sums the results of multiple states together\n",
    "  + base case\n",
    "    + in other DP problems, we usually define base cases to return 0\n",
    "    + in counting DP, we use logic to find the reasonable base case value, for example, in Leetcode 70, Climbing Stairs, we set the base case when i=0 as 1 since there is one way to climb the stair 0"
   ]
  },
  {
   "cell_type": "markdown",
   "id": "5faaf5cf",
   "metadata": {},
   "source": [
    "### Leetcode 70 Climbing Stairs\n",
    "* overview\n",
    "  + you are climbing a staircase. It takes n steps to reach the top\n",
    "  + each time, you can climb 1 or 2 steps, how many distince ways can you climb to the top?  "
   ]
  },
  {
   "cell_type": "code",
   "execution_count": 1,
   "id": "f87c28ee",
   "metadata": {},
   "outputs": [],
   "source": [
    "# bottom up with state reduction\n",
    "class Solution:\n",
    "    def climbStairs(self, n: int) -> int:\n",
    "        prev_two, prev_one = 1, 2\n",
    "\n",
    "        if n <=2 :\n",
    "            return n\n",
    "\n",
    "        for _ in range(3, n+1):\n",
    "            prev_one, prev_two = prev_one + prev_two, prev_one\n",
    "            \n",
    "        return prev_one"
   ]
  },
  {
   "cell_type": "markdown",
   "id": "63a46535",
   "metadata": {},
   "source": [
    "### Leetcode 276 Paint Fence\n",
    "* overview\n",
    "  + You are painting a fence of n posts with k different colors. you much paint the posts following these rules:\n",
    "    + Every post must be painted exactly one color\n",
    "    +  There cannot be three or more consecutive posts with the same color\n",
    "  + given the two integer n and k, return the number of ways you can paint the fence\n",
    "* algorithm\n",
    "  + at the begining, when n = 1, we can use all the k colors, resulting in k ways\n",
    "  + when n = 2, we can still use k colors since we are restricted to have three same colors, so we will get k^2 ways\n",
    "    + within these k^2 ways, there are k ways corresponding to the same colors, and k(k-1) ways corresponding to different colors\n",
    "    + we store the number of ways using the same colors as the previous post in a variable called 'same'\n",
    "    + we store the number of ways using the different colors than the previous post in variable 'diff'\n",
    "  + starting from n = 3, we can have two strategies\n",
    "    + choose a color different from the previous post, which we can have k-1 colors to choose, these k-1 choices can combine with any of the color combination of the previous post, and thus, diff = (k-1)(previous diff + previous same)\n",
    "    + choose a color same as the previous post. For this option, we have diff combinations\n",
    "    + the total number of combination for this n is diff+same  "
   ]
  },
  {
   "cell_type": "code",
   "execution_count": 1,
   "id": "d5ecee83",
   "metadata": {},
   "outputs": [],
   "source": [
    "class Solution:\n",
    "    def numWays(self, n: int, k: int) -> int:\n",
    "        if n == 1:\n",
    "            return k\n",
    "        if n == 2:\n",
    "            return k*k\n",
    "        \n",
    "        # the 2nd post can be separated into two cases:\n",
    "        # select the same color as the previous one, same=k, and \n",
    "        # select the different color than the previous one, diff = (k-1)*k\n",
    "        diff = k*(k-1)\n",
    "        same = k\n",
    "                \n",
    "        for _ in range(3, n+1):\n",
    "            same, diff = diff, (k-1)*(diff+same)\n",
    "            \n",
    "        return same + diff           "
   ]
  },
  {
   "cell_type": "markdown",
   "id": "c0132b74",
   "metadata": {},
   "source": [
    "### Leetcode 518 Coin Change II\n",
    "* overview\n",
    "  + you are given an integer array coins representing coins of different denominations and an interger amount representing a total amount of money\n",
    "  + return the number of combinations that make up that amount. If that amount of money cannot be made up by any combination of the coins, return 0\n",
    "  + You may assume that you have an infinite number of each kind of coin."
   ]
  },
  {
   "cell_type": "code",
   "execution_count": 1,
   "id": "c267b069",
   "metadata": {},
   "outputs": [],
   "source": [
    "from typing import List\n",
    "class Solution:\n",
    "    def change(self, amount: int, coins: List[int]) -> int:\n",
    "        if not coins:\n",
    "            return 0\n",
    "        \n",
    "        dp = [0] *(amount+1)\n",
    "        \n",
    "        # when amount == 0, there is one way by using no coins\n",
    "        dp[0] = 1\n",
    "        \n",
    "        # we traverse coins rather than dp index (amount) to prevent \n",
    "        # permutations, rather than combinations to be counted.\n",
    "        # if we use i loop as the outer loop, then for i ==10, (3, 7)\n",
    "        # and (7, 3) will be counted twice\n",
    "        for coin in coins:\n",
    "            for i in range(coin, amount+1):\n",
    "                dp[i] += dp[i-coin]\n",
    "                    \n",
    "        return dp[-1]             "
   ]
  },
  {
   "cell_type": "markdown",
   "id": "3834dadf",
   "metadata": {},
   "source": [
    "### Leetcode 91 Decode ways\n",
    "* overview\n",
    "  + A message containing letters from A-Z can be encoded into numbers using the mapping of A-> 1 and Z-> 26.\n",
    "  + given a string of numbers, find how many different ways we can decode it back to letters\n",
    "* algorithm:\n",
    "  + we have a static recurrent relationship, that is the current result at index i depends on the sum of results at i+1 and i+2\n",
    "  + we first test the edge case where n ==0 and n==1\n",
    "  + set one_after = 1 and two_after = 0\n",
    "  + here one_after is the base case corresponding to the letter after the last letter in the string. This is an imaginary letter for other index to accumulate from 1. two_after refers to the ways corresponding to the letter two chars after the current letter\n",
    "  + we then iterate from n-1 to 0 (includes 0) to traverse the current letter and return the curr corresponding to i=0\n",
    "  + for each iteration\n",
    "    + first initialize the curr = 0\n",
    "    + add curr by one_after \n",
    "    + we then test if the current letter concat the letter after it can be converted to a number betwee \\[10, 26\\], if so\n",
    "      + increment curr by two_after\n",
    "    + the algorithm's logic is that how many ways to decode the letter from the last letter to the current (including) is the sum of the ways to the letter exactly after it, and the letter that are two letters after it, if applicable\n",
    "      + note that the current letter doesn't create any new combinations, it just inherit the ways from the letters after it. This is basically the same as coin changes problem (Leetcode 518)\n",
    "* time complexity O(n) by traversing the n letters\n",
    "* space complexity O(1) since we only need curr, one_after and two_after variables"
   ]
  },
  {
   "cell_type": "code",
   "execution_count": 2,
   "id": "c0404da4",
   "metadata": {},
   "outputs": [],
   "source": [
    "class Solution:\n",
    "    def numDecodings(self, s: str) -> int:\n",
    "        if not s:\n",
    "            return 0\n",
    "        n = len(s)\n",
    "        \n",
    "        if n == 1:\n",
    "            return 0 if s ==\"0\" else 1\n",
    "        \n",
    "        # one_after refers to substring starting with empty string\n",
    "        # at index n, and after. \n",
    "        one_after, two_after = 1, 0\n",
    "        curr = 0\n",
    "        \n",
    "        \n",
    "        # i refers to the starting index to the end\n",
    "        # and how many ways of this substring can \n",
    "        # be decoded. If current letter is 0, then\n",
    "        # any substring starts with 0 has 0 ways to decode\n",
    "        # any letter j before a zero will have to check j+2 \n",
    "        for i in range(n-1, -1, -1):\n",
    "            curr = 0\n",
    "            \n",
    "            if s[i] != \"0\":\n",
    "                curr += one_after\n",
    "                if i < n-1 and 9 < int(s[i] + s[i+1]) < 27:\n",
    "                    curr += two_after\n",
    "                    \n",
    "            one_after, two_after = curr, one_after\n",
    "            \n",
    "        return curr     \n",
    "        "
   ]
  },
  {
   "cell_type": "markdown",
   "id": "aa2159ef",
   "metadata": {},
   "source": [
    "### Kadan's Algorithm\n",
    "* an algorithm to find the max sum subarray given an array of numbers in O(n) time and O(1) space\n",
    "* the algorithm iterates through the array using an integer variable current, and at each index i, determines if elements before index i ar worth keeping, or should be discarded\n",
    "* only useful when the array contains negative numbers. If current becomes negative, it is reset, and we start to consider a new subarray staring at the current index\n",
    "* alogrithm\n",
    "  + the basic logic is that if the subarray sum before the current element is negative, it won't help to build a subarray with higher sum, and we will start a new subarray from the current element, which will have a higher sum value\n",
    "  + for each iteration, we use the best to record the historic highest sum\n",
    "  + finally return best"
   ]
  },
  {
   "cell_type": "markdown",
   "id": "f8c7fb0c",
   "metadata": {},
   "source": [
    "### Leetcode 121 Best Time to Buy and Sell Stock\n",
    "* overview\n",
    "  + you are given an array prices where price(i) is the price of a give stock on the ith day\n",
    "  + you want to maximize your profit by choosing a single day to buy one stock and choosing a different day in the future to sell that stock\n",
    "  + return the maximum profit you can achieve from this transaction. If you can not achieve any profit, return 0\n",
    "* algorithm\n",
    "  + set rs = 0, this will be the historical highest profit\n",
    "  + set curr_min = float(\"inf\"), this represents the minimum price so far\n",
    "  + the problem is to find the max positive difference between the current element and the minimum elment so far in the array\n",
    "  + we apply Kadan's algorithm by scanning the elements, and store the max difference between the current element and the minimun element so far in the rs variable, then update the curr_min\n",
    "  + we finally return the rs  "
   ]
  },
  {
   "cell_type": "code",
   "execution_count": 5,
   "id": "5a6c3ee9",
   "metadata": {},
   "outputs": [],
   "source": [
    "class Solution:\n",
    "    def maxProfit(self, prices: List[int]) -> int:\n",
    "        if not prices:\n",
    "            return 0\n",
    "        \n",
    "        rs = 0\n",
    "        curr_min = float(\"inf\")\n",
    "        \n",
    "        for price in prices:\n",
    "            rs = max(rs, price - curr_min)\n",
    "            curr_min = min(curr_min, price)\n",
    "            \n",
    "        return rs    "
   ]
  },
  {
   "cell_type": "markdown",
   "id": "b6d77139",
   "metadata": {},
   "source": [
    "### Leetcode 918 Maximum Sum Circular Subarray\n",
    "* overview\n",
    "  + given a circular integer array nums of length n, return the maximum possible sum of a non-empty subarray of nums\n",
    "  + A circular array means the end of the array connects to the beginning of the array. Formally, the next element of nums\\[i\\] is nums\\[(i + 1) % n\\] and the previous element of nums\\[i\\] is nums\\[(i - 1 + n) % n\\].\n",
    "  + A subarray may only include each element of the fixed buffer nums at most once.\n",
    "* algorithm\n",
    "  + this is an extension to the subarray max problem, with circular subarrays. There are two cases:\n",
    "    + the subarray with max sum is within the array as a normal array\n",
    "      + we can use the classic algorithm by cum_sum_max\n",
    "    + the subarray consists of some elements at the end combined with some elements at the begining of the array (rewind sub array)\n",
    "      + we the cum_sum_min, and the max sum will be the sum of the entire array minus the cum_sum_min\n",
    "    + if the entire array consists of negative or zero elements, the total-cum_sum_min == 0, then we will not get the correct result. To exclude this edge case, we first check if cum_sum_max <=0, if so, we direct return it as the result.This is because if cum_sum_max <=0, then total - cum_sum_min will not make sense (the sum will be greater than total)\n",
    "  "
   ]
  },
  {
   "cell_type": "code",
   "execution_count": 6,
   "id": "a395cbfe",
   "metadata": {},
   "outputs": [],
   "source": [
    "class Solution:\n",
    "    def maxSubarraySumCircular(self, nums: List[int]) -> int:\n",
    "        \n",
    "        if not nums:\n",
    "            return 0\n",
    "        \n",
    "        cum_sum_max = float(\"-inf\")\n",
    "        cum_sum_min = float(\"inf\")\n",
    "        \n",
    "        # we don't have any element to sum, so curr_sum_max=curr_sum_min=0\n",
    "        curr_sum_max = curr_sum_min = 0\n",
    "        total = 0\n",
    "        \n",
    "        for num in nums:\n",
    "            curr_sum_max = max(curr_sum_max+num, num)\n",
    "            cum_sum_max = max(cum_sum_max, curr_sum_max)\n",
    "            \n",
    "            curr_sum_min = min(curr_sum_min+num, num)\n",
    "            cum_sum_min = min(cum_sum_min, curr_sum_min)\n",
    "            \n",
    "            total += num\n",
    "            \n",
    "        if cum_sum_max <= 0:\n",
    "            return cum_sum_max\n",
    "        return max(cum_sum_max, total-cum_sum_min)\n",
    "            "
   ]
  },
  {
   "cell_type": "code",
   "execution_count": null,
   "id": "81ad28b7",
   "metadata": {},
   "outputs": [],
   "source": []
  }
 ],
 "metadata": {
  "kernelspec": {
   "display_name": "Python 3 (ipykernel)",
   "language": "python",
   "name": "python3"
  },
  "language_info": {
   "codemirror_mode": {
    "name": "ipython",
    "version": 3
   },
   "file_extension": ".py",
   "mimetype": "text/x-python",
   "name": "python",
   "nbconvert_exporter": "python",
   "pygments_lexer": "ipython3",
   "version": "3.10.4"
  }
 },
 "nbformat": 4,
 "nbformat_minor": 5
}
