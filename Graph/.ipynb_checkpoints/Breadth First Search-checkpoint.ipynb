{
 "cells": [
  {
   "cell_type": "markdown",
   "id": "dca8e031",
   "metadata": {},
   "source": [
    "## Breadth First Search\n",
    "### General\n",
    "* BFS traverse all vertices and paths between two vertices\n",
    "* primary use cases\n",
    "  + traverse all vertices in the graph\n",
    "  + efficiently find the shortest path between two vertices in a graph where all edges have equal and positive weights\n",
    "    + DFS can find all the paths, and therefore can find the shortest path, but need to traverse all the paths\n",
    "    + BFS can find the shortest path without traversing all the paths.\n",
    "      + once a path between the source and target vertices are found, it is guaranteed to be the shortest path\n",
    "      \n",
    "### Traverse all vertices  \n",
    "* traverse all vertices layer by layer. Each layer consists of nodes having the equal distance to the source node\n",
    "* time complexity\n",
    "  + O(V+E) we travese all vertices and edges of each vertex\n",
    "* space complexity \n",
    "  + O(V) \n",
    "    + we store all the vertices in the queue during traverse (we check if the node has been visited before enqueue)\n",
    "    + we use selected set to store all visited nodes\n",
    "    + if we consider the space to build adjacent list, it will be O(V+E)"
   ]
  },
  {
   "cell_type": "code",
   "execution_count": 3,
   "id": "aed358a2",
   "metadata": {},
   "outputs": [],
   "source": [
    "from typing import List"
   ]
  },
  {
   "cell_type": "markdown",
   "id": "d0c80e74",
   "metadata": {},
   "source": [
    "### Leetcode 1971\n",
    "* typical BFS to find if there is a path between source and destination\n",
    "* set up a deque and a visited set, both initialized by the source vertex \n",
    "* in a while q loop, popleft the curr vertex, if it is destination, return True, otherwise, check all its neighbors\n",
    "  + if a neighbor is not in visited, add it to visited set, and append it to queue\n",
    "* return False out of the while loop when all vertices are traversed and still not find the destination  "
   ]
  },
  {
   "cell_type": "code",
   "execution_count": 4,
   "id": "ccd98a08",
   "metadata": {},
   "outputs": [],
   "source": [
    "class Solution:\n",
    "    def validPath(self, n: int, edges: List[List[int]], source: int, destination: int) -> bool:\n",
    "        if n == 1:\n",
    "            return True\n",
    "        \n",
    "        adj_list = [[] for _ in range(n)]\n",
    "        for start, end in edges:\n",
    "            adj_list[start].append(end)\n",
    "            adj_list[end].append(start)\n",
    "            \n",
    "        q = deque([source])\n",
    "        visited = set([source])\n",
    "        \n",
    "        while q:\n",
    "            curr = q.popleft()\n",
    "            if curr == destination:\n",
    "                return True\n",
    "            \n",
    "            for ng in adj_list[curr]:\n",
    "                if ng not in visited:\n",
    "                    visited.add(ng)\n",
    "                    q.append(ng)\n",
    "                    \n",
    "        return False            \n",
    "            \n",
    "        "
   ]
  },
  {
   "cell_type": "markdown",
   "id": "1ca37ce7",
   "metadata": {},
   "source": [
    "#### Leetcode 797\n",
    "* find all paths from vertex 0 to vertex n-1 among n nodes\n",
    "* BFS\n",
    "  + set the initial deque as a list containing its first element as a tuple. vertex and its paths\n",
    "  + in while loop, pop the vertex and its paths, if vertex == n-1, concat the rs with the paths\n",
    "  + traverse all the current vertex's neighbors, concatenate to each of the path\n",
    "  + return rs"
   ]
  },
  {
   "cell_type": "code",
   "execution_count": 5,
   "id": "98f246f7",
   "metadata": {},
   "outputs": [],
   "source": [
    "class Solution:\n",
    "    def allPathsSourceTarget(self, graph: List[List[int]]) -> List[List[int]]:\n",
    "        if not graph:\n",
    "            return []\n",
    "        \n",
    "        rs = []\n",
    "        n = len(graph)\n",
    "        \n",
    "        q = deque([(0, [[0]])])\n",
    "        \n",
    "        while q:\n",
    "            vertex, paths = q.popleft()\n",
    "            if vertex == n-1:\n",
    "                rs += paths\n",
    "                        \n",
    "            for ng in graph[vertex]:\n",
    "                q.append((ng, [path+[ng] for path in paths]))\n",
    "                \n",
    "        return rs      "
   ]
  },
  {
   "cell_type": "markdown",
   "id": "ccd655dc",
   "metadata": {},
   "source": [
    "#### Leetcode 116 populating next right pointers in each node\n",
    "* BSF, using layer by layer template\n",
    "  + set a pre = None, and if it is not None, set its next pointer to the current node\n",
    "  + set pre = curr\n",
    "  + if curr.left, enque curr.left\n",
    "  + if curr.right, enque curr.right\n",
    "  + return root after while loop\n",
    "* general solution for next pointer problem \n",
    "  + the basic idea is to traverse layer by layer from top to bottom\n",
    "  + in each layer, move from left to right, before moving, \n",
    "    + connect the left and right child, \n",
    "    + if has next, connect right child with next node's left\n",
    "  + move to the next, if it is not None, repeat the operations on its children and its next's left child, otherwise, jump out \n",
    "  + use a two layer while loop. the outer loop maintain the head position to be always the left most node, and internal while loop operate traverse throughout the entire layer  "
   ]
  },
  {
   "cell_type": "code",
   "execution_count": null,
   "id": "00741705",
   "metadata": {},
   "outputs": [],
   "source": [
    "#BFS implementation\n",
    "class Solution:\n",
    "    def connect(self, root: 'Optional[Node]') -> 'Optional[Node]':\n",
    "        if root is None:\n",
    "            return root\n",
    "        \n",
    "        q = deque([root])\n",
    "        \n",
    "        while q:\n",
    "            pre = None\n",
    "            for i in range(len(q)):\n",
    "                node = q.popleft()\n",
    "                if pre:\n",
    "                    pre.next = node\n",
    "                pre = node    \n",
    "                if node.left:\n",
    "                    q.append(node.left)\n",
    "                if node.right:\n",
    "                    q.append(node.right)\n",
    "            \n",
    "        return root            \n",
    "\n",
    "# general next pointer implementation\n",
    "class Solution:\n",
    "    def connect(self, root: 'Optional[Node]') -> 'Optional[Node]':\n",
    "        if root is None:\n",
    "            return None\n",
    "        \n",
    "        head = root\n",
    "        \n",
    "        while head:\n",
    "            curr = head\n",
    "            while curr:\n",
    "                if curr.left:\n",
    "                    curr.left.next = curr.right\n",
    "                if curr.right and curr.next:\n",
    "                    curr.right.next = curr.next.left\n",
    "                curr = curr.next\n",
    "            head = head.left\n",
    "        return root    "
   ]
  }
 ],
 "metadata": {
  "kernelspec": {
   "display_name": "Python 3 (ipykernel)",
   "language": "python",
   "name": "python3"
  },
  "language_info": {
   "codemirror_mode": {
    "name": "ipython",
    "version": 3
   },
   "file_extension": ".py",
   "mimetype": "text/x-python",
   "name": "python",
   "nbconvert_exporter": "python",
   "pygments_lexer": "ipython3",
   "version": "3.10.4"
  }
 },
 "nbformat": 4,
 "nbformat_minor": 5
}
