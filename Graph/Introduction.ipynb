{
 "cells": [
  {
   "cell_type": "markdown",
   "id": "03e54181",
   "metadata": {},
   "source": [
    "## Introduction\n",
    "### types of graphs\n",
    "* undirected graphs, directed graphs, and weighted graphs\n",
    "  + undirected graphs\n",
    "    + The edges between any two vertices do not have a direction, indicating a two-way relationship\n",
    "  + directed graphs\n",
    "    + The edges between any two vertices are directional\n",
    "  + weighted graphs\n",
    "    + Each edge in a “weighted graph” has an associated weight\n",
    "    + The weight can be of any metric, such as time, distance, size, etc. \n",
    "    + The most commonly seen “weighted map” might be a city map. Each edge is marked with the distance as the weight\n",
    "    \n",
    "### terminologies\n",
    "  + Vertex: nodes such as A, B, and C are called vertices of the graph\n",
    "  + Edge: The connection between two vertices are the edges of the graph \n",
    "  + Path: the sequence of vertices to go through from one vertex to another\n",
    "    + there can be multiple paths between two vertices\n",
    "  + Path Length: the number of edges in a path\n",
    "  + Cycle: a path where the starting point and endpoint are the same vertex\n",
    "  + Negative Weight Cycle: In a “weighted graph”, if the sum of the weights of all edges of a cycle is a negative value\n",
    "  + Connectivity: if there exists at least one path between two vertices, these two vertices are connected\n",
    "  + Degree of a Vertex: the term “degree” applies to unweighted graphs. The degree of a vertex is the number of edges connecting the vertex\n",
    "  + In-Degree: “in-degree” is a concept in directed graphs. If the in-degree of a vertex is d, there are d directional edges incident to the vertex\n",
    "  + Out-Degree: “out-degree” is a concept in directed graphs. If the out-degree of a vertex is d, there are d edges incident from the vertex"
   ]
  }
 ],
 "metadata": {
  "kernelspec": {
   "display_name": "Python 3 (ipykernel)",
   "language": "python",
   "name": "python3"
  },
  "language_info": {
   "codemirror_mode": {
    "name": "ipython",
    "version": 3
   },
   "file_extension": ".py",
   "mimetype": "text/x-python",
   "name": "python",
   "nbconvert_exporter": "python",
   "pygments_lexer": "ipython3",
   "version": "3.10.4"
  }
 },
 "nbformat": 4,
 "nbformat_minor": 5
}
