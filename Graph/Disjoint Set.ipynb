{
 "cells": [
  {
   "cell_type": "markdown",
   "id": "ca055d57",
   "metadata": {},
   "source": [
    "## Disjoint Set\n",
    "### Overview\n",
    "* disjoint set as a data structure\n",
    "  + The primary use of disjoint sets is to address the connectivity between the components of a network\n",
    "    + to quickly check if two vertices are connected\n",
    "  + also known as union-find\n",
    "* terminologies\n",
    "  + parent node: the direct parent node of a vertex\n",
    "  + root node: a node without a parent node. can be considered as the praent node of itself"
   ]
  },
  {
   "cell_type": "markdown",
   "id": "accd0386",
   "metadata": {},
   "source": [
    "### Implementation\n",
    "* find function finds the root node of a given vertex\n",
    "* union function unions two vertices and makes their root nodes the same\n",
    "#### implementation of Quick Find\n",
    "* time complexity of find function will be O(1)\n",
    "* time complexity of union function will be O(N)\n",
    "* the basic idea is to maintain a root array that keeps the roots for all elements\n",
    "* when we union two nodes, we first check if they have the same root, if not, then we traverse root array, and modify the root of all the elements having node y as their root to x\n",
    "* in most cases, the find and union will be O(N),and connecting N nodes will be O(N^2)\n",
    "  + by doing this, all elements having node y as the root will now have x as their root, including node y\n",
    "```python\n",
    "# UnionFind class\n",
    "class UnionFind:\n",
    "    def __init__(self, size):\n",
    "        self.root = [i for i in range(size)]\n",
    "\n",
    "    def find(self, x):\n",
    "        return self.root[x]\n",
    "\t\t\n",
    "    def union(self, x, y):\n",
    "        rootX = self.find(x)\n",
    "        rootY = self.find(y)\n",
    "        if rootX != rootY:\n",
    "            for i in range(len(self.root)):\n",
    "                if self.root[i] == rootY:\n",
    "                    self.root[i] = rootX\n",
    "\n",
    "    def connected(self, x, y):\n",
    "        return self.find(x) == self.find(y)\n",
    "```\n",
    "\n",
    "\n",
    "#### implementation of Quick Union\n",
    "* the time complexity of the union function is O(N) in the worst case, but on average better than it\n",
    "* the find function is O(N) in the worst case\n",
    "* to connect N nodes takes <= O(N^2). On average, quick union is better than quick find\n",
    "* quick union form certain hierarchy of chains, but it is possible for all vertices to form a line"
   ]
  },
  {
   "cell_type": "code",
   "execution_count": null,
   "id": "fa290f50",
   "metadata": {},
   "outputs": [],
   "source": [
    "# UnionFind class\n",
    "class UnionFind:\n",
    "    def __init__(self, size):\n",
    "        self.root = [i for i in range(size)]\n",
    "\n",
    "    def find(self, x):\n",
    "        while x != self.root[x]:\n",
    "            x = self.root[x]\n",
    "        return x\n",
    "\n",
    "    def union(self, x, y):\n",
    "        rootX = self.find(x)\n",
    "        rootY = self.find(y)\n",
    "        if rootX != rootY:\n",
    "            self.root[rootY] = rootX\n",
    "\n",
    "    def connected(self, x, y):\n",
    "        return self.find(x) == self.find(y)"
   ]
  },
  {
   "cell_type": "markdown",
   "id": "d9f2af15",
   "metadata": {},
   "source": [
    "#### Union by rank\n",
    "* the purpose of union by rank is to spread the tree and decrease its height\n",
    "* rank refers to the height of each vertex\n",
    "* when union two nodes, we use the vertex with higher rank as the parent node of the lower one, and therefore, reduce or maintain the overall lower height of the vertices\n",
    "  + when union a rank 3 vertex with a rank 2 vertex, if we use the rank 3 one as the parent node, then the height of the joined disjoint set is 3, otherwise it is 4. Therefore, using the higher rank vertex as parent node decrease the overall height of the set  \n",
    "  + when the two vertices have the same rank, use any of them as the parent node, and then increment its rank after union\n",
    "* time complexity\n",
    "  + worse case is that we repeatedly union components of equal rank, the tree height will be at most log(N)+1, so find operation is O(log(N)) in worst case\n",
    "  + union will be O(log(N)) since it use find()\n",
    "  + O(N) for constructor"
   ]
  },
  {
   "cell_type": "code",
   "execution_count": null,
   "id": "2f04e752",
   "metadata": {},
   "outputs": [],
   "source": [
    "# union by rank\n",
    "# UnionFind class\n",
    "class UnionFind:\n",
    "    def __init__(self, size):\n",
    "        self.root = [i for i in range(size)]\n",
    "        self.rank = [1] * size\n",
    "\n",
    "    def find(self, x):\n",
    "        while x != self.root[x]:\n",
    "            x = self.root[x]\n",
    "        return x\n",
    " \n",
    "    def union(self, x, y):\n",
    "        rootX = self.find(x)\n",
    "        rootY = self.find(y)\n",
    "        if rootX != rootY:\n",
    "            if self.rank[rootX] > self.rank[rootY]:\n",
    "                self.root[rootY] = rootX\n",
    "            elif self.rank[rootX] < self.rank[rootY]:\n",
    "                self.root[rootX] = rootY\n",
    "            else:\n",
    "                self.root[rootY] = rootX\n",
    "                self.rank[rootX] += 1\n",
    "\n",
    "    def connected(self, x, y):\n",
    "        return self.find(x) == self.find(y)"
   ]
  },
  {
   "cell_type": "markdown",
   "id": "e387f4d3",
   "metadata": {},
   "source": [
    "#### Path compression optimization\n",
    "* to further decrease the tree height, after finding the root node, we udate the parent node of all travesed elements to their root node\n",
    "  + the recursive chain keep going up to the root element\n",
    "* this effectively decrease the height of the tree, actually, there are only two possiblities:\n",
    "  + the node is the root of its branch, where x = root\\[x\\]\n",
    "  + the node has another node as its parent, where you only need two recursive run to find root\n",
    "  + note that this only happens when we search the node again. The building process still may take O(N), although it is rare\n",
    "* notice the different implementation in find(x) where we don't use while loop, but a if statement as base case, and recursively call find(root\\[x\\]) to find root, and set the root\\[x\\] to returned root node, and then return the root node\n",
    "* we don't use the union by rank in this implementation, and therefore, the worst case could have O(N) for find() when building the chain\n",
    "* Time complexity\n",
    "  + constructor O(N)\n",
    "  + find O(logN) on average, worst case O(N)\n",
    "  + union O(logN) on average, worst case O(N)\n",
    "  + connected O(logN) on average, worst case O(N)"
   ]
  },
  {
   "cell_type": "code",
   "execution_count": null,
   "id": "24656249",
   "metadata": {},
   "outputs": [],
   "source": [
    "class UnionFind:\n",
    "    def __init__(self, size):\n",
    "        self.root = [i for i in range(size)]\n",
    "\n",
    "    def find(self, x):\n",
    "        if x == self.root[x]:\n",
    "            return x\n",
    "        self.root[x] = self.find(self.root[x])\n",
    "        return self.root[x]\n",
    " \n",
    "    def union(self, x, y):\n",
    "        rootX = self.find(x)\n",
    "        rootY = self.find(y)\n",
    "        if rootX != rootY:\n",
    "            self.root[rootY] = rootX\n",
    "\n",
    "    def connected(self, x, y):\n",
    "        return self.find(x) == self.find(y)"
   ]
  },
  {
   "cell_type": "markdown",
   "id": "172d6bde",
   "metadata": {},
   "source": [
    "#### optimized disjoint set with path compression and union by rank\n",
    "* here we combine the path compression in find() and union by rank in union()\n",
    "* time complexity\n",
    "  + constructor O(N)\n",
    "  + find: O(alpha(N)) on average, regarded as O(1)\n",
    "  + union and connect: O(alpha(N)) on average, regarded as O(1)"
   ]
  },
  {
   "cell_type": "code",
   "execution_count": 1,
   "id": "dbc1f0b4",
   "metadata": {},
   "outputs": [],
   "source": [
    "class UnionFind:\n",
    "    def __init__(self, size):\n",
    "        self.root = [i for i in range(size)]\n",
    "        # Use a rank array to record the height of each vertex, i.e., the \"rank\" of each vertex.\n",
    "        # The initial \"rank\" of each vertex is 1, because each of them is\n",
    "        # a standalone vertex with no connection to other vertices.\n",
    "        self.rank = [1] * size\n",
    "\n",
    "    # The find function here is the same as that in the disjoint set with path compression.\n",
    "    def find(self, x):\n",
    "        if x == self.root[x]:\n",
    "            return x\n",
    "        self.root[x] = self.find(self.root[x])\n",
    "        return self.root[x]\n",
    "\n",
    "    # The union function with union by rank\n",
    "    def union(self, x, y):\n",
    "        rootX = self.find(x)\n",
    "        rootY = self.find(y)\n",
    "        if rootX != rootY:\n",
    "            if self.rank[rootX] > self.rank[rootY]:\n",
    "                self.root[rootY] = rootX\n",
    "            elif self.rank[rootX] < self.rank[rootY]:\n",
    "                self.root[rootX] = rootY\n",
    "            else:\n",
    "                self.root[rootY] = rootX\n",
    "                self.rank[rootX] += 1\n",
    "\n",
    "    def connected(self, x, y):\n",
    "        return self.find(x) == self.find(y)\n"
   ]
  },
  {
   "cell_type": "markdown",
   "id": "6477b99b",
   "metadata": {},
   "source": [
    "#### Leetcode 547\n",
    "* Overview\n",
    "  + There are n cities. Some of them are connected, while some are not. If city a is connected directly with city b, and city b is connected directly with city c, then city a is connected indirectly with city c.\n",
    "  + A province is a group of directly or indirectly connected cities and no other cities outside of the group.\n",
    "  + You are given an n x n matrix isConnected where isConnected[i][j] = 1 if the ith city and the jth city are directly connected, and `isConnected[i][j]` = 0 otherwise.\n",
    "  + Return the total number of provinces.\n",
    "* we can use Union_Find to solve this problem. The key points:\n",
    "  + the length of isConnected matrix is the number of cities, which is the size of UF\n",
    "  + straightforward to use UF. Union two points when isConnected\\[i\\]\\[j\\]==1\n",
    "  + it is better to set a count that initialized to the size of islands, and each time a union is called to join two points, decrement this value\n",
    "  + return the count as results\n",
    "  + we can use the count of root nodes, but in case a node doesn't update its parent node, we get incorrect results\n",
    "  "
   ]
  },
  {
   "cell_type": "code",
   "execution_count": 2,
   "id": "632b5e8b",
   "metadata": {},
   "outputs": [],
   "source": [
    "from typing import List\n",
    "class UnionFind:\n",
    "    def __init__(self, size: int):\n",
    "        self.rank = [1] * size\n",
    "        self.root = [ i for i in range(size)]\n",
    "        \n",
    "        # initialize count as the number of independent island\n",
    "        self.count = size\n",
    "        \n",
    "    def find(self, x) -> int:\n",
    "        if x == self.root[x]:\n",
    "            return x\n",
    "        self.root[x] = self.find(self.root[x])\n",
    "        return self.root[x]\n",
    "    \n",
    "    # decrease count after each union\n",
    "    def union(self, x, y) -> None:\n",
    "        rootX = self.find(x)\n",
    "        rootY = self.find(y)\n",
    "        \n",
    "        if rootX != rootY:\n",
    "            if self.rank[rootX] > self.rank[rootY]:\n",
    "                self.root[rootY] = rootX\n",
    "            elif self.rank[rootX] < self.rank[rootY]:\n",
    "                self.root[rootX] = rootY\n",
    "            else:\n",
    "                self.root[rootX] = rootY\n",
    "                self.rank[rootY] += 1\n",
    "            self.count -= 1    \n",
    "                \n",
    "    def connect(self, x, y) -> bool:\n",
    "        return self.find(x) == self.find(y)\n",
    "    \n",
    "    def get_count(self) -> int:\n",
    "        return self.count\n",
    "\n",
    "class Solution:\n",
    "    def findCircleNum(self, isConnected: List[List[int]]) -> int:\n",
    "        if not isConnected or not isConnected[0]:\n",
    "            return 0\n",
    "        \n",
    "        size = len(isConnected)\n",
    "        uf = UnionFind(size)\n",
    "        \n",
    "        for i in range(size):\n",
    "            for j in range(i+1, size):\n",
    "                if isConnected[i][j] == 1:\n",
    "                    uf.union(i, j)\n",
    "                    \n",
    "        return uf.get_count()   "
   ]
  },
  {
   "cell_type": "markdown",
   "id": "17968b21",
   "metadata": {},
   "source": [
    "#### Leetcode 261\n",
    "* Overview\n",
    "  + You have a graph of n nodes labeled from 0 to n - 1. You are given an integer n and a list of edges where edges`[i] = [ai, bi]` indicates that there is an undirected edge between nodes ai and bi in the graph.\n",
    "  + Return true if the edges of the given graph make up a valid tree, and false otherwise.\n",
    "  \n",
    "* a tree is a fully connected graph without repeated edges\n",
    "  + the tree should have only one root node, which can be implemented by union() to decrement count\n",
    "  + the number of unrepeated edges should equals to n-1\n",
    "    + if the length of edges does not equal to n-1, return False\n",
    "    + if the length of edges is bigger than n-1, there are repeated edges\n",
    "    + if the length of the edges is smaller than n-1, the graph is not fully connected  \n",
    "* there is no need to check the repeated edges, since the problem has the constraint that \"There are no self-loops or repeated edges.\" \n",
    "* Time complexity \n",
    "  + O(N) for typical UF operations\n",
    "* space complexity\n",
    "  + O(N) to store the root and rank lists"
   ]
  },
  {
   "cell_type": "code",
   "execution_count": 3,
   "id": "09e42233",
   "metadata": {},
   "outputs": [],
   "source": [
    "class UnionFind:\n",
    "    def __init__(self, size: int):\n",
    "        self.root = [i for i in range(size)]\n",
    "        self.rank = [1] * size\n",
    "        self.count = size\n",
    "        \n",
    "    def find(self, x) -> int:\n",
    "        if x == self.root[x]:\n",
    "            return x\n",
    "        self.root[x] = self.find(self.root[x])\n",
    "        return self.root[x]\n",
    "    \n",
    "    def union(self, x, y) -> None:\n",
    "        root_x = self.find(x)\n",
    "        root_y = self.find(y)\n",
    "        \n",
    "        if root_x != root_y:\n",
    "            if self.rank[root_x] > self.rank[root_y]:\n",
    "                self.root[root_y] = root_x\n",
    "            elif self.rank[root_x] < self.rank[root_y]:\n",
    "                self.root[root_x] = root_y\n",
    "            else:\n",
    "                self.root[root_x] = root_y\n",
    "                self.rank[root_y] += 1\n",
    "            self.count -= 1\n",
    "            \n",
    "    def get_count(self) -> int:\n",
    "        return self.count\n",
    "\n",
    "class Solution:\n",
    "    def validTree(self, n: int, edges: List[List[int]]) -> bool:\n",
    "        if n == 0 or len(edges) != n-1:\n",
    "            return False\n",
    "        \n",
    "        uf = UnionFind(n)\n",
    "        for (a, b) in edges:\n",
    "            uf.union(a, b)\n",
    "        \n",
    "        return uf.get_count() == 1   "
   ]
  },
  {
   "attachments": {
    "image.png": {
     "image/png": "[encoded data removed]"
    }
   },
   "cell_type": "markdown",
   "id": "e538a1cc",
   "metadata": {},
   "source": [
    "#### Leetcode 1202 Smallest String With Swaps\n",
    "* Overview\n",
    "  + You are given a string s, and an array of pairs of indices in the string pairs where pairs`[i] = [a, b]` indicates 2 indices(0-indexed) of the string.\n",
    "  + You can swap the characters at any pair of indices in the given pairs any number of times.\n",
    "  + Return the lexicographically smallest string that s can be changed to after using the swaps.\n",
    "  ![image.png](attachment:image.png)\n",
    "* the key points are the following:\n",
    "  + we use the unionfind to connect all the pairs as the indices of the input string\n",
    "  + we then traverse the input string by both index and char. and find the root of each index\n",
    "  + we store the index and char of the input string to the corresponding defaultdicts using the root index as key\n",
    "  + we then travers the two defaultdicts, retrieve the index and char lists, and sort them\n",
    "    + this step swap the index and chars so that the sorted indices and chars under the same root keys are pairs to insert to the char array as the recombined copy of original string\n",
    "  + we then insert the chars from the sorted char list to the corresponding index defined by the sorted index list\n",
    "  + we finally join the sorted char list \n",
    "* time complexity\n",
    "  + we will connect all the edges in the pairs, which is O(E). We also sort the vetices, which is O(VlogV) so time complexity is O(E + VlogV)\n",
    "  + space complexity: O(V)\n",
    "  ```python\n",
    "     # traverse the input string, and aggregate the chars and indices \n",
    "     # using the root index of each collections. Then store them in\n",
    "     # defaultdicts        \n",
    "     for i, char in enumerate(s):\n",
    "        root_index = uf.find(i)\n",
    "        char_dict[root_index].append(char)\n",
    "        index_dict[root_index].append(i)\n",
    "        \n",
    "    # prepare empty string list for output\n",
    "    rs = [\"\"] * n\n",
    "    \n",
    "    # retrieve the char and index lists, sort them\n",
    "    # and define the output string list using the \n",
    "    # sorted index and char lists\n",
    "    for key, value in char_dict.items():\n",
    "        value.sort()\n",
    "        index_dict[key].sort()\n",
    "        for (i, char) in zip(index_dict[key], value):\n",
    "            rs[i] = char\n",
    "    return \"\".join(rs)        \n",
    "    ```"
   ]
  },
  {
   "cell_type": "code",
   "execution_count": null,
   "id": "c2139dca",
   "metadata": {},
   "outputs": [],
   "source": [
    "class UnionFind:\n",
    "    def __init__(self, size:int):\n",
    "        self.root = [i for i in range(size)]\n",
    "        self.rank = [1] * size\n",
    "        \n",
    "    def find(self, x) -> int:\n",
    "        if self.root[x] == x:\n",
    "            return x\n",
    "        self.root[x] = self.find(self.root[x])\n",
    "        return self.root[x]\n",
    "    \n",
    "    def union(self, x, y)-> None:\n",
    "        root_x = self.find(x)\n",
    "        root_y = self.find(y)\n",
    "        \n",
    "        if root_x != root_y:\n",
    "            if self.rank[root_x] > self.rank[root_y]:\n",
    "                self.root[root_y] = root_x\n",
    "            elif self.rank[root_x] < self.rank[root_y]:\n",
    "                self.root[root_x] = root_y\n",
    "            else:\n",
    "                self.root[root_x] = root_y\n",
    "                self.rank[root_y] += 1             \n",
    "                \n",
    "    \n",
    "class Solution:\n",
    "    def smallestStringWithSwaps(self, s: str, pairs: List[List[int]]) -> str:\n",
    "        if not pairs or not s:\n",
    "            return s\n",
    "        char_dict = defaultdict(list)\n",
    "        index_dict = defaultdict(list)\n",
    "        \n",
    "        n = len(s)\n",
    "        uf = UnionFind(n)\n",
    "        \n",
    "        for start, end in pairs:\n",
    "            uf.union(start, end)\n",
    "            \n",
    "        for i, char in enumerate(s):\n",
    "            root_index = uf.find(i)\n",
    "            char_dict[root_index].append(char)\n",
    "            index_dict[root_index].append(i)\n",
    "        rs = [\"\"] * n\n",
    "        for key, value in char_dict.items():\n",
    "            value.sort()\n",
    "            index_dict[key].sort()\n",
    "            for (i, char) in zip(index_dict[key], value):\n",
    "                rs[i] = char\n",
    "        return \"\".join(rs)  "
   ]
  },
  {
   "attachments": {
    "image.png": {
     "image/png": "[encoded data removed]"
    }
   },
   "cell_type": "markdown",
   "id": "a4525e51",
   "metadata": {},
   "source": [
    "#### Leetcode 399 Evaluate Division\n",
    "* Overview\n",
    "  + You are given an array of variable pairs equations and an array of real numbers values, where `equations[i] = [Ai, Bi]` and `values[i]` represent the equation Ai / Bi = `values[i]`. Each Ai or Bi is a string that represents a single variable.\n",
    "  + You are also given some queries, where `queries[j] = [Cj, Dj]` represents the jth query where you must find the answer for `Cj / Dj = ?`.\n",
    "  + Return the answers to all queries. If a single answer cannot be determined, return -1.0.\n",
    "  + Note: The input is always valid. You may assume that evaluating the queries will not result in division by zero and that there is no contradiction.\n",
    "![image.png](attachment:image.png)\n",
    "* use union find.\n",
    "* since the equation has defined which one is the root, we don't use rank order to decide the root\n",
    "* the idea is simple, if a and b are connected, return their weight ratio, and the weights are both relative to the root element. Otherwise return -1\n",
    "* if any of a, b are not in the self.root, return -1\n",
    "* in find(x), if x is not in self.root, set `[x, 1]`\n",
    "  + if x is its own root, return `self.root[x]`\n",
    "  + otherwise, recursively call find(parent)\n",
    "    + set the root element of x to be the final root\n",
    "    + update the weights from the upper level parent\n",
    "* in union(x, y, value)\n",
    "  + get `root_x`, `weight_x`, and `root_y`, `weight_y` \n",
    "  + if x and y are connected, do nothing\n",
    "  + otherwise, set the root of `root_x` to be `root_y`, and `root_x`'s weight to be `value * weight_y/weight_x`\n",
    "  + the weight of x will also be recursively updated\n",
    "  \n",
    "* time complexity\n",
    "  + we only use the path compression without rank optimization, so each union/find will take O(logN) to build the union. Overall, it will take O(NlogN) to build the union. To query the result, each time the find() will take log(N), and overall, it will take O(MlogN) for queries. So total time complexity is O((M+N)logN)\n",
    "  \n",
    "* space complexity\n",
    "  + O(N) to store union"
   ]
  },
  {
   "cell_type": "code",
   "execution_count": null,
   "id": "9d5a188b",
   "metadata": {},
   "outputs": [],
   "source": [
    "class UnionFind:\n",
    "    def __init__(self):\n",
    "        self.root = dict()        \n",
    "        \n",
    "    def find(self, x: str) -> [str, float]:\n",
    "        if x not in self.root:\n",
    "            self.root[x] = [x, 1]           \n",
    "        else:\n",
    "            parent, weight = self.root[x]\n",
    "            if parent != x:\n",
    "                self.root[x][0], factor = self.find(parent)\n",
    "                self.root[x][1] *= factor\n",
    "        return self.root[x]\n",
    "            \n",
    "    def union(self, x, y, value) -> None:\n",
    "        root_x, weight_x = self.find(x)\n",
    "        root_y, weight_y = self.find(y)\n",
    "        \n",
    "        if root_x != root_y:\n",
    "            self.root[root_x] = [root_y, value * weight_y/weight_x]\n",
    "        \n",
    "    def query(self, x, y) -> float:\n",
    "        if x not in self.root or y not in self.root:\n",
    "            return -1\n",
    "        root_x, weight_x = self.find(x)\n",
    "        root_y, weight_y = self.find(y)\n",
    "        \n",
    "        if root_x != root_y:\n",
    "            return -1\n",
    "        return weight_x / weight_y               \n",
    "    \n",
    "\n",
    "class Solution:\n",
    "    def calcEquation(self, equations: List[List[str]], values: List[float], queries: List[List[str]]) -> List[float]:\n",
    "        if not equations or not equations[0] or not queries or not queries[0]:\n",
    "            return []\n",
    "        rs =[]\n",
    "        \n",
    "        uf = UnionFind()\n",
    "        for (a, b), value in zip(equations, values):\n",
    "            uf.union(a, b, value)\n",
    "            \n",
    "        for a, b in queries:\n",
    "            rs.append(uf.query(a, b))\n",
    "            \n",
    "        return rs    \n",
    "            "
   ]
  },
  {
   "cell_type": "markdown",
   "id": "924d3b3c",
   "metadata": {},
   "source": [
    "#### Leetcode 1168 Optimize Water Distribution in a Village\n",
    "* Overview\n",
    "  + There are n houses in a village. We want to supply water for all the houses by building wells and laying pipes.\n",
    "  + For each house i, we can either build a well inside it directly with cost `wells[i - 1]` (note the -1 due to 0-indexing), or pipe in water from another well to it. The costs to lay pipes between houses are given by the array pipes where each `pipes[j] = [house1j, house2j, costj]` represents the cost to connect house1j and house2j together using a pipe. Connections are bidirectional, and there could be multiple valid connections between the same two houses with different costs.\n",
    "  + Return the minimum total cost to supply water to all houses.\n",
    "* add a virtual house at index of 0, all costs to build well is the edge/pipe between house 0 and each real house\n",
    "  + we build the wells list to reflect this, and extend pipes list to include well list\n",
    "  + sort the new list by cost, so we will preferably use the low cost to add houses to the system\n",
    "* implement a classic UnionFind class\n",
    "* if there is a connection, return 1 else 0 from union()\n",
    "* if the count is 1, meaning all the houses have been considered, jump out of the for loop and return the result "
   ]
  },
  {
   "cell_type": "code",
   "execution_count": null,
   "id": "30ef29ac",
   "metadata": {},
   "outputs": [],
   "source": [
    "class UnionFind:\n",
    "    def __init__(self, size):\n",
    "        self.count = size\n",
    "        self.root = [i for i in range(size)]\n",
    "        self.rank = [1] * size\n",
    "        \n",
    "    def find(self, x) -> int:\n",
    "        if self.root[x] == x:\n",
    "            return x\n",
    "        self.root[x] = self.find(self.root[x])\n",
    "        return self.root[x]\n",
    "    \n",
    "    def union(self, x, y) -> int:\n",
    "        root_x = self.find(x)\n",
    "        root_y = self.find(y)\n",
    "        \n",
    "        if root_x == root_y:\n",
    "            return 0\n",
    "        \n",
    "        if self.rank[root_x] > self.rank[root_y]:\n",
    "            self.root[root_y] = root_x\n",
    "        elif self.rank [root_x] < self.rank[root_y]:\n",
    "            self.root[root_x] = root_y\n",
    "        else:\n",
    "            self.root[root_x] = root_y\n",
    "            self.rank[root_y] += 1\n",
    "        self.count -= 1\n",
    "        return 1  \n",
    "    \n",
    "    def get_count(self):\n",
    "        return self.count   \n",
    "    \n",
    "class Solution:\n",
    "    def minCostToSupplyWater(self, n: int, wells: List[int], pipes: List[List[int]]) -> int:\n",
    "        wells = [[0, i+1, wells[i]] for i in range(len(wells))]\n",
    "        pipes.extend(wells)\n",
    "        pipes.sort(key=lambda x: x[2])\n",
    "        \n",
    "        uf = UnionFind(n+1)\n",
    "        rs = 0\n",
    "        \n",
    "        for start, end, cost in pipes:\n",
    "            rs += uf.union(start, end) * cost            \n",
    "            if uf.get_count() == 1:\n",
    "                return rs\n",
    "        return rs    \n",
    "            "
   ]
  },
  {
   "cell_type": "code",
   "execution_count": 1,
   "id": "5f23cf62",
   "metadata": {},
   "outputs": [],
   "source": [
    "a = {i: (i, 1) for i in range(5)}"
   ]
  },
  {
   "cell_type": "code",
   "execution_count": 2,
   "id": "e04eb62d",
   "metadata": {},
   "outputs": [
    {
     "data": {
      "text/plain": [
       "{0: (0, 1), 1: (1, 1), 2: (2, 1), 3: (3, 1), 4: (4, 1)}"
      ]
     },
     "execution_count": 2,
     "metadata": {},
     "output_type": "execute_result"
    }
   ],
   "source": [
    "a"
   ]
  },
  {
   "cell_type": "code",
   "execution_count": 10,
   "id": "84e6e139",
   "metadata": {},
   "outputs": [],
   "source": [
    "eqs =[[1, 2], [3, 4], [5, 6]]\n",
    "vals = [7, 8, 9]\n",
    "\n",
    "# unpack lists using ()\n",
    "for (a, b), c in zip(eqs, vals):\n",
    "    print(a, b, c)"
   ]
  },
  {
   "cell_type": "code",
   "execution_count": 5,
   "id": "a77c2575",
   "metadata": {},
   "outputs": [
    {
     "data": {
      "text/plain": [
       "defaultdict(list, {3: ['d', 'b'], 2: ['c', 'a'], 4: []})"
      ]
     },
     "execution_count": 5,
     "metadata": {},
     "output_type": "execute_result"
    }
   ],
   "source": [
    "# defaultdict will only generate entries when qeury or set that entry\n",
    "from collections import defaultdict\n",
    "b = defaultdict(list)\n",
    "b[3].append('d')\n",
    "b[3].append('b')\n",
    "b[2].append('c')\n",
    "b[2].append('a')\n",
    "b[4]\n",
    "b"
   ]
  },
  {
   "cell_type": "code",
   "execution_count": 16,
   "id": "e59dfe5e",
   "metadata": {},
   "outputs": [
    {
     "name": "stdout",
     "output_type": "stream",
     "text": [
      "[0, 1]\n",
      "(0, 1)\n"
     ]
    }
   ],
   "source": [
    "# assing values to a list must use list\n",
    "# get output as a list\n",
    "rs = [0, 1]\n",
    "print(rs)\n",
    "\n",
    "# get results as tuple\n",
    "rs = 0, 1\n",
    "print(rs)"
   ]
  },
  {
   "cell_type": "code",
   "execution_count": 21,
   "id": "5a950a17",
   "metadata": {},
   "outputs": [
    {
     "name": "stdout",
     "output_type": "stream",
     "text": [
      "None\n",
      "[1, 2, 3, 4, 5, 6]\n"
     ]
    }
   ],
   "source": [
    "a = [1, 2, 3]\n",
    "b = [4, 5, 6]\n",
    "c = a.extend(b)\n",
    "print(c)\n",
    "print(a)"
   ]
  },
  {
   "cell_type": "code",
   "execution_count": 11,
   "id": "a72d6930",
   "metadata": {},
   "outputs": [],
   "source": [
    "rs =[\"\"] * 5"
   ]
  },
  {
   "cell_type": "code",
   "execution_count": 12,
   "id": "582cfa27",
   "metadata": {},
   "outputs": [
    {
     "data": {
      "text/plain": [
       "['', '', '', '', '']"
      ]
     },
     "execution_count": 12,
     "metadata": {},
     "output_type": "execute_result"
    }
   ],
   "source": [
    "rs"
   ]
  },
  {
   "cell_type": "code",
   "execution_count": 13,
   "id": "1b61bbbf",
   "metadata": {},
   "outputs": [],
   "source": [
    "rs[0] ='a'"
   ]
  },
  {
   "cell_type": "code",
   "execution_count": 14,
   "id": "4c7e4a17",
   "metadata": {},
   "outputs": [
    {
     "data": {
      "text/plain": [
       "['a', '', '', '', '']"
      ]
     },
     "execution_count": 14,
     "metadata": {},
     "output_type": "execute_result"
    }
   ],
   "source": [
    "rs"
   ]
  },
  {
   "cell_type": "code",
   "execution_count": null,
   "id": "3494f65f",
   "metadata": {},
   "outputs": [],
   "source": []
  }
 ],
 "metadata": {
  "kernelspec": {
   "display_name": "Python 3 (ipykernel)",
   "language": "python",
   "name": "python3"
  },
  "language_info": {
   "codemirror_mode": {
    "name": "ipython",
    "version": 3
   },
   "file_extension": ".py",
   "mimetype": "text/x-python",
   "name": "python",
   "nbconvert_exporter": "python",
   "pygments_lexer": "ipython3",
   "version": "3.10.4"
  }
 },
 "nbformat": 4,
 "nbformat_minor": 5
}
