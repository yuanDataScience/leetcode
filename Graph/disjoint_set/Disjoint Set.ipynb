{
 "cells": [
  {
   "cell_type": "markdown",
   "id": "8abe78c7",
   "metadata": {},
   "source": [
    "## Disjoint Set\n",
    "### Overview\n",
    "* disjoint set as a data structure\n",
    "  + The primary use of disjoint sets is to address the connectivity between the components of a network\n",
    "    + to quickly check if two vertices are connected\n",
    "  + also known as union-find\n",
    "* terminologies\n",
    "  + parent node: the direct parent node of a vertex\n",
    "  + root node: a node without a parent node. can be considered as the praent node of itself"
   ]
  },
  {
   "cell_type": "markdown",
   "id": "accd0386",
   "metadata": {},
   "source": [
    "### Implementation\n",
    "* find function finds the root node of a given vertex\n",
    "* union function unions two vertices and makes their root nodes the same\n",
    "#### implementation of Quick Find\n",
    "* time complexity of find function will be O(1)\n",
    "* time complexity of union function will be O(N)\n",
    "* the basic idea is to maintain a root array that keeps the roots for all elements\n",
    "* when we union two nodes, we first check if they have the same root, if not, then we traverse root array, and modify the root of all the elements having node y \n",
    "```python\n",
    "# UnionFind class\n",
    "class UnionFind:\n",
    "    def __init__(self, size):\n",
    "        self.root = [i for i in range(size)]\n",
    "\n",
    "    def find(self, x):\n",
    "        return self.root[x]\n",
    "\t\t\n",
    "    def union(self, x, y):\n",
    "        rootX = self.find(x)\n",
    "        rootY = self.find(y)\n",
    "        if rootX != rootY:\n",
    "            for i in range(len(self.root)):\n",
    "                if self.root[i] == rootY:\n",
    "                    self.root[i] = rootX\n",
    "\n",
    "    def connected(self, x, y):\n",
    "        return self.find(x) == self.find(y)\n",
    "```\n",
    "\n",
    "\n",
    "#### implementation of Quick Union\n",
    "* the time complexity of the union function is better\n",
    "* the find function will take more time in this case."
   ]
  }
 ],
 "metadata": {
  "kernelspec": {
   "display_name": "Python 3 (ipykernel)",
   "language": "python",
   "name": "python3"
  },
  "language_info": {
   "codemirror_mode": {
    "name": "ipython",
    "version": 3
   },
   "file_extension": ".py",
   "mimetype": "text/x-python",
   "name": "python",
   "nbconvert_exporter": "python",
   "pygments_lexer": "ipython3",
   "version": "3.10.4"
  }
 },
 "nbformat": 4,
 "nbformat_minor": 5
}
