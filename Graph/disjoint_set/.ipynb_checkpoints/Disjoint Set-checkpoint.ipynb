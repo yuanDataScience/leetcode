{
 "cells": [
  {
   "cell_type": "markdown",
   "id": "c4016210",
   "metadata": {},
   "source": [
    "## Disjoint Set\n",
    "### Overview\n",
    "* disjoint set as a data structure\n",
    "  + The primary use of disjoint sets is to address the connectivity between the components of a network\n",
    "    + to quickly check if two vertices are connected\n",
    "  + also known as union-find\n",
    "* terminologies\n",
    "  + parent node: the direct parent node of a vertex\n",
    "  + root node: a node without a parent node. can be considered as the praent node of itself"
   ]
  },
  {
   "cell_type": "markdown",
   "id": "accd0386",
   "metadata": {},
   "source": [
    "### Implementation\n",
    "* find function finds the root node of a given vertex\n",
    "* union function unions two vertices and makes their root nodes the same\n",
    "#### implementation of Quick Find\n",
    "* \n",
    "#### implementation of Quick Union"
   ]
  }
 ],
 "metadata": {
  "kernelspec": {
   "display_name": "Python 3 (ipykernel)",
   "language": "python",
   "name": "python3"
  },
  "language_info": {
   "codemirror_mode": {
    "name": "ipython",
    "version": 3
   },
   "file_extension": ".py",
   "mimetype": "text/x-python",
   "name": "python",
   "nbconvert_exporter": "python",
   "pygments_lexer": "ipython3",
   "version": "3.10.4"
  }
 },
 "nbformat": 4,
 "nbformat_minor": 5
}
