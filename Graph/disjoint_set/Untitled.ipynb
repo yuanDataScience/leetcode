{
 "cells": [
  {
   "cell_type": "code",
   "execution_count": null,
   "id": "a7e841ae",
   "metadata": {},
   "outputs": [],
   "source": [
    "class UnionFind:\n",
    "    def __init__(self, size):\n",
    "        self.root = [i for i in range(size)]\n",
    "        self.rank = [1] * size\n",
    "        \n",
    "    def find(self, x):\n",
    "        if self.root[x] == x:\n",
    "            return x\n",
    "        self.root[x] = self.find(self.root[x])\n",
    "        return self.root[x]\n",
    "    \n",
    "    def union(self, x, y):\n",
    "        root_x = self.find(x)\n",
    "        root_y = self.find(y)\n",
    "        \n",
    "        if root_x == root_y:\n",
    "            return\n",
    "        \n",
    "        if self.rank[root_x] > self.rank[root_y]:\n",
    "            self.root[root_y] = root_x\n",
    "        elif self.rank[root_y] > self.rank[root_x]:\n",
    "            self.root[root_x] = root_y\n",
    "        else:\n",
    "            self.root[root_y] = root_x\n",
    "            self.rank[root_x] += 1\n",
    "            \n",
    "    def connect(self, x, y):\n",
    "        return self.find(x) == self.find(y)"
   ]
  }
 ],
 "metadata": {
  "kernelspec": {
   "display_name": "Python 3 (ipykernel)",
   "language": "python",
   "name": "python3"
  },
  "language_info": {
   "codemirror_mode": {
    "name": "ipython",
    "version": 3
   },
   "file_extension": ".py",
   "mimetype": "text/x-python",
   "name": "python",
   "nbconvert_exporter": "python",
   "pygments_lexer": "ipython3",
   "version": "3.10.4"
  }
 },
 "nbformat": 4,
 "nbformat_minor": 5
}
