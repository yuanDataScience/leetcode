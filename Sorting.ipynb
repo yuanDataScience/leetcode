{
 "cells": [
  {
   "cell_type": "markdown",
   "id": "44ea478b",
   "metadata": {},
   "source": [
    "## Sorting\n",
    "\n",
    "### Introduction to Sorting\n",
    "* sorting algorithms are all about rearranging elements in a collection based on a common characteristic of those elements\n",
    "* An ordering relation has two key properties: 1. Given two elements a and b, exactly one of the following must be true: \n",
    "  + It must be true that a<b, a=b, or a>b ( Law of Trichotomy ) \n",
    "  + If a<b and b<c, then a<c ( Law of Transitivity )\n",
    "* A sort is formally defined as a rearrangement of a sequence of elements that puts all elements into a non-decreasing order based on the ordering relation  \n",
    "* The ordering relation practically is defined as a method of comparison in programming languages. Most programming languages allow you to pass in custom functions for comparison whenever you want to sort a sequence of elements as shown in the following python code\n",
    "```python\n",
    "    class Solution:\n",
    "        def sort_by_length(self, lst: List[str]) -> None:\n",
    "            \"\"\"\n",
    "            Sorts a list of strings by the length of each string\n",
    "            \"\"\"        \n",
    "            lst.sort(key=lambda x: len(x)) # Note we can also do lst.sort(key=len)\n",
    "```        \n",
    "\n",
    "* inversion\n",
    "  + An inversion in a sequence is defined as a pair of elements that are out of order with respect to the ordering relation\n",
    "  + example: in the list of \\[“are”, “we”, “sorting”, “hello”, “world”, “learning”\\], the following inversions have the opposite order of string lenghths:\n",
    "    + (“are”, “we”), (“sorting”, “hello”), and (“sorting”, “world”)\n",
    "  + a sorting algorithm is a sequence of operations that reduces inversions to 0\n",
    "  \n",
    "* stability of sorting algorithms\n",
    "  + The key feature of a stable sorting algorithm is that it will preserve the order of equal elements\n",
    "  + example: \n",
    "    + in the original list of \\[“hello”, “world”, “we”, “are”, “learning, “sorting”\\], there are two valid sorts: \n",
    "    1. \\[“we”, “are”, “hello”, “world”, “sorting”, “learning”\\]\n",
    "    2. \\[“we”, “are”, “world”, “hello”, “sorting”, “learning”\\] \n",
    "    + the first sort is considered as a stable sort since the equal elements \"hello\" and \"world\" are kept in the same relative order as the original sequence\n",
    "    \n",
    "#### Exercise\n",
    "1. Give the following array of strings \\['hello', 'your', 'above', 'year', 'alone', 'friendly', 'crazy'\\] where the ordering relation is the length, what is the stable sort \n",
    "  + solution: \\['your', 'year', 'hello', 'above', 'alone', 'crazy', 'friendly'\\]\n",
    "  + explanation: all the four letter words and five letter words are in the same order as in original list\n",
    "  \n",
    "2. How many inversions exist in the following list of integers: \\[3, 4, 6, 5, 2\\] \n",
    "  + solution: 3 > 2, 4 > 2, 6 > 2, 5 > 2, 6 > 5 (altogether 5 inversions)\n",
    "  \n",
    "3. Which of the following are the key parts of an ordering relation? (Select all that apply)\n",
    "  + It must be true that a<b, a=b, or a>b ( Law of Trichotomy ) \n",
    "  + If a<b and b<c, then a<c ( Law of Transitivity )"
   ]
  },
  {
   "cell_type": "markdown",
   "id": "1fc1c543",
   "metadata": {},
   "source": [
    "### Comparison Based Sort\n",
    "* Comparison based sorts are sorting algorithms that require a direct method of comparison defined by the ordering relation\n",
    "* "
   ]
  },
  {
   "cell_type": "code",
   "execution_count": null,
   "id": "301ae707",
   "metadata": {},
   "outputs": [],
   "source": []
  }
 ],
 "metadata": {
  "kernelspec": {
   "display_name": "Python 3 (ipykernel)",
   "language": "python",
   "name": "python3"
  },
  "language_info": {
   "codemirror_mode": {
    "name": "ipython",
    "version": 3
   },
   "file_extension": ".py",
   "mimetype": "text/x-python",
   "name": "python",
   "nbconvert_exporter": "python",
   "pygments_lexer": "ipython3",
   "version": "3.10.4"
  }
 },
 "nbformat": 4,
 "nbformat_minor": 5
}
